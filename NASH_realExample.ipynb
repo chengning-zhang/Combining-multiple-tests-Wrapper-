{
  "nbformat": 4,
  "nbformat_minor": 0,
  "metadata": {
    "colab": {
      "name": "NASH_realExample",
      "provenance": [],
      "collapsed_sections": [
        "8xFQxpJenKjk",
        "OjRshA2y7in4",
        "mHPhINst7mKn",
        "ANqkXsoDkXDl",
        "xnm0lsfqrEG5",
        "3hNShajVrIKj",
        "W00waYrZTkFv",
        "Cxsc6zIFFxyX"
      ],
      "mount_file_id": "1kxQ-451gBL7-6TkoorB96CDVp4IluFSZ",
      "authorship_tag": "ABX9TyPLisdPAzWv3AU1pkRAeSke"
    },
    "kernelspec": {
      "name": "python3",
      "display_name": "Python 3"
    }
  },
  "cells": [
    {
      "cell_type": "code",
      "metadata": {
        "id": "OBXDoaip3POy"
      },
      "source": [
        "import numpy as np\n",
        "from sklearn.metrics import roc_auc_score\n",
        "from sklearn.metrics import roc_curve\n",
        "from sklearn import metrics\n",
        "from sklearn.linear_model import LogisticRegression as LR\n",
        "from sklearn.model_selection import KFold, StratifiedKFold\n",
        "import matplotlib.pyplot as plt\n",
        "from numpy.linalg import inv\n",
        "import pandas as pd\n",
        "from sklearn.ensemble import RandomForestClassifier\n",
        "from sklearn.model_selection import KFold, StratifiedKFold\n",
        "from numpy.random import multivariate_normal\n",
        "from sklearn.svm import SVC\n",
        "from scipy.stats import bernoulli"
      ],
      "execution_count": null,
      "outputs": []
    },
    {
      "cell_type": "code",
      "metadata": {
        "id": "8SU0u1Beo-4P"
      },
      "source": [
        "dat = pd.read_csv('/content/drive/My Drive/Research 2020 fall/simulation/NAFLD.txt',sep = ' ')\n",
        "## change gender to female\n",
        "sex_dict = {'M':0, 'F':1}\n",
        "dat['Female'] = dat.Gender.map(sex_dict)\n",
        "\n",
        "## select relevant cols and dropna \n",
        "#dat_1 = dat.loc[:,['R1-NASH','R2-NASH', 'Female','FIB4','LSVR', 'NASH']].dropna()\n",
        "dat_1 = dat.loc[:,['R1-NASH','R2-NASH','FIB4','LSVR', 'NASH']].dropna()\n",
        "\n",
        "## X0 and X1\n",
        "X0 = dat_1.loc[dat_1.NASH == 0, ['R1-NASH','R2-NASH','FIB4','LSVR']]\n",
        "X1 = dat_1.loc[dat_1.NASH == 1, ['R1-NASH','R2-NASH','FIB4','LSVR']]"
      ],
      "execution_count": null,
      "outputs": []
    },
    {
      "cell_type": "markdown",
      "metadata": {
        "id": "8H3waeMqo8D_"
      },
      "source": [
        "1. simulation(check)\n",
        "2. 0.5 (check)\n",
        "3. nonlinear (wait for code) (check)"
      ]
    },
    {
      "cell_type": "markdown",
      "metadata": {
        "id": "8xFQxpJenKjk"
      },
      "source": [
        "# Linear combination \n",
        "\n",
        "Choose first var to be anchor"
      ]
    },
    {
      "cell_type": "code",
      "metadata": {
        "id": "TyG_kSrpWAMV",
        "colab": {
          "base_uri": "https://localhost:8080/"
        },
        "outputId": "a50202f4-f21a-4ff9-cbca-0052289e9047"
      },
      "source": [
        "[roc_auc_score(dat_1.NASH, dat_1.iloc[:,i]) for i in range(4)]\n",
        "#[0.4643326758711374,\n",
        "# 0.4276791584483892,\n",
        "# 0.7143326758711374,\n",
        "# 0.4819197896120973]"
      ],
      "execution_count": null,
      "outputs": [
        {
          "output_type": "execute_result",
          "data": {
            "text/plain": [
              "[0.5827580539119, 0.5613083497698882, 0.715154503616042, 0.4953977646285339]"
            ]
          },
          "metadata": {
            "tags": []
          },
          "execution_count": 77
        }
      ]
    },
    {
      "cell_type": "code",
      "metadata": {
        "id": "Y6yrR3rKRM_G",
        "colab": {
          "base_uri": "https://localhost:8080/"
        },
        "outputId": "69c511c9-3f93-4229-b430-a5b150d12922"
      },
      "source": [
        "[NonpAUC(X0.iloc[:,i],X1.iloc[:,i]) for i in range(4)] "
      ],
      "execution_count": null,
      "outputs": [
        {
          "output_type": "execute_result",
          "data": {
            "text/plain": [
              "[0.5827580539119, 0.5613083497698882, 0.715154503616042, 0.49539776462853385]"
            ]
          },
          "metadata": {
            "tags": []
          },
          "execution_count": 79
        }
      ]
    },
    {
      "cell_type": "code",
      "metadata": {
        "id": "eYrkQsL7Rh8l"
      },
      "source": [
        "def indicator(s0,s1):\n",
        "  \"\"\"Indicator function\n",
        "  s0: scalar\n",
        "  s1:scalar\n",
        "  return scalar\n",
        "  \"\"\"\n",
        "  if s0 == s1: return 0.5\n",
        "  elif s1 > s0: return 1\n",
        "  else: return 0\n",
        "\n",
        "def NonpAUC(s0,s1):\n",
        "  \"\"\"compute the nonparametruc AUC. \n",
        "  s1: array of composite scores for class '1'.\n",
        "  s0: array of composite scores for class '0'\n",
        "  return scalar auc\n",
        "  \"\"\"\n",
        "  n1 = len(s1)\n",
        "  n0 = len(s0)\n",
        "  ans = 0\n",
        "  for x1 in s1:\n",
        "    for x0 in s0:\n",
        "      ans += indicator(x0,x1)\n",
        "  return ans/(n1*n0)\n"
      ],
      "execution_count": null,
      "outputs": []
    },
    {
      "cell_type": "code",
      "metadata": {
        "id": "RhVsx1Nh2JCh"
      },
      "source": [
        "####. AUC \n",
        "\n",
        "### method1, more convient in suliu\n",
        "#def NonpAUC(s0, s1):\n",
        "#  \"\"\"\n",
        "#  compute the nonparametruc AUC. \n",
        "#  s1: array of composite scores for class '1'.\n",
        "#  s0: array of composite scores for class '0'\n",
        "#  return scalar auc\n",
        "#  \"\"\"\n",
        "#  n1 = len(s1)\n",
        "#  n0 = len(s0)\n",
        "#  return sum([sum(x> s0) for x in s1])/ (n1*n0)\n",
        "\n",
        "# method 2\n",
        "## actually does not need that function,\n",
        "# roc_auc_score(y, y_pred)    directly get nonpAUC\n",
        "\n",
        "# method 3, can plot ROC curve\n",
        "#fpr, tpr, thresholds = roc_curve(y, y_pred, pos_label=1)\n",
        "#metrics.auc(fpr, tpr)\n",
        "# method I: plt\n",
        "#plt.title('Receiver Operating Characteristic')\n",
        "#plt.plot(fpr, tpr, 'b', label = 'AUC = %0.2f' % roc_auc)\n",
        "#plt.legend(loc = 'lower right')\n",
        "#plt.plot([0, 1], [0, 1],'r--')\n",
        "#plt.xlim([0, 1])\n",
        "#plt.ylim([0, 1])\n",
        "#plt.ylabel('True Positive Rate')\n",
        "#plt.xlabel('False Positive Rate')\n",
        "#plt.show()"
      ],
      "execution_count": null,
      "outputs": []
    },
    {
      "cell_type": "code",
      "metadata": {
        "id": "K6miMR-bMTsP",
        "colab": {
          "base_uri": "https://localhost:8080/"
        },
        "outputId": "210414b3-6d5d-40d3-833b-b835e544974d"
      },
      "source": [
        "NonpAUC(np.array([10]),np.array([11]) )"
      ],
      "execution_count": null,
      "outputs": [
        {
          "output_type": "execute_result",
          "data": {
            "text/plain": [
              "1.0"
            ]
          },
          "metadata": {
            "tags": []
          },
          "execution_count": 80
        }
      ]
    },
    {
      "cell_type": "code",
      "metadata": {
        "id": "2f_QBKhVT-bW"
      },
      "source": [
        "### anchor var\n",
        "def anchor_est_coef(coef):\n",
        "  \"\"\"\n",
        "  set the first var as anchor var, which has coef 1.\n",
        "  coef: array(cannot be list)\n",
        "  return coef_, array.\n",
        "  \"\"\"\n",
        "\n",
        "  # if anchor coef <0\n",
        "  coef_ = np.array(coef)\n",
        "  return coef_/abs(coef_[0]) # abs guarantee it is increasing transformation"
      ],
      "execution_count": null,
      "outputs": []
    },
    {
      "cell_type": "markdown",
      "metadata": {
        "id": "EuHA2jzf5sG4"
      },
      "source": [
        "Su and Liu's method"
      ]
    },
    {
      "cell_type": "code",
      "metadata": {
        "id": "WutYWMwS5wHY"
      },
      "source": [
        "def suliu(X0, X1, bool = True):\n",
        "  \"\"\"\n",
        "  X0: df or array, design matrix for class '0'\n",
        "  X1: df or array, design matrix for class '1'\n",
        "  \"\"\"\n",
        "  a = np.cov(X0, rowvar= False) +  np.cov(X1, rowvar= False)\n",
        "  b = X1.mean().to_numpy() - X0.mean().to_numpy()\n",
        "  est_coef = np.matmul(inv(a),b)\n",
        "  if bool: \n",
        "    est_coef = anchor_est_coef(est_coef)\n",
        "  # \n",
        "  Y0 = np.matmul(X0.to_numpy(), est_coef); Y1 = np.matmul(X1.to_numpy(), est_coef)\n",
        "  auc = NonpAUC(Y0, Y1)\n",
        "  if auc >=0.5:\n",
        "    return est_coef, auc\n",
        "  else:\n",
        "    return -est_coef, 1-auc"
      ],
      "execution_count": null,
      "outputs": []
    },
    {
      "cell_type": "code",
      "metadata": {
        "id": "2j2gvYLQgJKm",
        "colab": {
          "base_uri": "https://localhost:8080/"
        },
        "outputId": "591541ff-14f0-447a-8db7-8165ad3c03cd"
      },
      "source": [
        "coef, auc = suliu(X0,X1, bool =False)\n",
        "print('estimated coef is %s' % coef)\n",
        "print('empirical AUC is %s' % auc)"
      ],
      "execution_count": null,
      "outputs": [
        {
          "output_type": "stream",
          "text": [
            "estimated coef is [0.09214426 0.0608472  0.03468675 0.09459451]\n",
            "empirical AUC is 0.6620644312952005\n"
          ],
          "name": "stdout"
        }
      ]
    },
    {
      "cell_type": "code",
      "metadata": {
        "id": "RN-o_j2fwBwE",
        "colab": {
          "base_uri": "https://localhost:8080/"
        },
        "outputId": "07b7910b-895b-43aa-907c-e335e478831f"
      },
      "source": [
        "coef, auc = suliu(X0,X1)\n",
        "print('estimated coef is %s' % coef)\n",
        "print('empirical AUC is %s' % auc)"
      ],
      "execution_count": null,
      "outputs": [
        {
          "output_type": "stream",
          "text": [
            "estimated coef is [1.         0.66034715 0.37643963 1.02659137]\n",
            "empirical AUC is 0.6620644312952005\n"
          ],
          "name": "stdout"
        }
      ]
    },
    {
      "cell_type": "markdown",
      "metadata": {
        "id": "XAMicZsRZHRH"
      },
      "source": [
        "random forest"
      ]
    },
    {
      "cell_type": "code",
      "metadata": {
        "id": "TZGTWJhXZIc4"
      },
      "source": [
        "def randomforst(X0,X1):\n",
        "  n0 = X0.shape[0]\n",
        "  n1 = X1.shape[0]\n",
        "\n",
        "  X = pd.concat([X0,X1])\n",
        "  y = [0] * n0\n",
        "  y.extend([1]*n1); y = np.array(y)\n",
        "  rf =RandomForestClassifier(max_depth=2, random_state=43).fit(X,y)\n",
        "  ## \n",
        "  y_pred = rf.predict_proba(X)[:,1]\n",
        "  auc = roc_auc_score(y, y_pred)\n",
        "  #print(NonpAUC(y_pred[:n0], y_pred[n0:]))\n",
        "  #feature_importances = rf.feature_importances_\n",
        "  return rf, auc ## return model, for future prediction"
      ],
      "execution_count": null,
      "outputs": []
    },
    {
      "cell_type": "code",
      "metadata": {
        "id": "s7M6r-5JaDyW",
        "colab": {
          "base_uri": "https://localhost:8080/"
        },
        "outputId": "fe142359-aa15-41c1-bded-b3377765acfe"
      },
      "source": [
        "mod_rf, auc = randomforst(X0,X1)\n",
        "#print('estimated feature_importances_ is %s' % coef)\n",
        "print('empirical AUC is %s' % auc)"
      ],
      "execution_count": null,
      "outputs": [
        {
          "output_type": "stream",
          "text": [
            "0.7943786982248521\n",
            "empirical AUC is 0.7943786982248521\n"
          ],
          "name": "stdout"
        }
      ]
    },
    {
      "cell_type": "markdown",
      "metadata": {
        "id": "YbXQSKV2cdxo"
      },
      "source": [
        "SVM_r"
      ]
    },
    {
      "cell_type": "code",
      "metadata": {
        "id": "ngjKhD7Ie58W"
      },
      "source": [
        "def svm_r(X0,X1):\n",
        "  \"\"\"svm with rbf kernel\n",
        "  X0: df, design matrix for class '0'\n",
        "  X1: df, design matrix for class '1'\n",
        "  \"\"\"\n",
        "  n0 = X0.shape[0]\n",
        "  n1 = X1.shape[0]\n",
        "\n",
        "  X = pd.concat([X0,X1])\n",
        "  y = [0] * n0\n",
        "  y.extend([1]*n1); y = np.array(y)\n",
        "  mod = SVC(kernel = 'rbf',random_state=42, probability= True).fit(X,y)\n",
        "  ## \n",
        "  y_pred = mod.predict_proba(X)[:,1]\n",
        "  auc = roc_auc_score(y, y_pred)\n",
        "\n",
        "  return mod, auc ## cannot return estimates, so return mod for future prediction\n"
      ],
      "execution_count": null,
      "outputs": []
    },
    {
      "cell_type": "code",
      "metadata": {
        "id": "-DUbsSW9fMPg",
        "colab": {
          "base_uri": "https://localhost:8080/"
        },
        "outputId": "caa50875-7ab1-4a07-c837-312a97b28ab7"
      },
      "source": [
        "mod_svm,auc = svm_r(X0,X1)\n",
        "print('empirical AUC is %s' % auc)"
      ],
      "execution_count": null,
      "outputs": [
        {
          "output_type": "stream",
          "text": [
            "empirical AUC is 0.723044049967127\n"
          ],
          "name": "stdout"
        }
      ]
    },
    {
      "cell_type": "markdown",
      "metadata": {
        "id": "-z3e8AHsfSW2"
      },
      "source": [
        "SVM_l"
      ]
    },
    {
      "cell_type": "code",
      "metadata": {
        "id": "HomZZ27lcegA"
      },
      "source": [
        "def svm_l(X0,X1):\n",
        "  \"\"\"svm with linear kernel\n",
        "  X0: df, design matrix for class '0'\n",
        "  X1: df, design matrix for class '1'\n",
        "  \"\"\"\n",
        "  n0 = X0.shape[0]\n",
        "  n1 = X1.shape[0]\n",
        "\n",
        "  X = pd.concat([X0,X1])\n",
        "  y = [0] * n0\n",
        "  y.extend([1]*n1); y = np.array(y)\n",
        "  mod = SVC(kernel = 'linear',random_state=0, probability= True).fit(X,y)\n",
        "  ## \n",
        "  y_pred = mod.predict_proba(X)[:,1]\n",
        "  auc = roc_auc_score(y, y_pred)\n",
        "\n",
        "  return mod, auc ## cannot return estimates, so return mod for future prediction\n"
      ],
      "execution_count": null,
      "outputs": []
    },
    {
      "cell_type": "code",
      "metadata": {
        "id": "TC5KlYcweVUS",
        "colab": {
          "base_uri": "https://localhost:8080/"
        },
        "outputId": "df4427cb-5900-4986-c805-629e085e42c0"
      },
      "source": [
        "mod_svm,auc = svm_l(X0,X1)\n",
        "print('empirical AUC is %s' % auc)"
      ],
      "execution_count": null,
      "outputs": [
        {
          "output_type": "stream",
          "text": [
            "empirical AUC is 0.7140861275476659\n"
          ],
          "name": "stdout"
        }
      ]
    },
    {
      "cell_type": "markdown",
      "metadata": {
        "id": "5xVCHuqxNWvY"
      },
      "source": [
        "Logistic regression"
      ]
    },
    {
      "cell_type": "code",
      "metadata": {
        "id": "RLkG1J1uNYNK"
      },
      "source": [
        "def logistic(X0,X1, bool = True):\n",
        "  n0 = X0.shape[0]\n",
        "  n1 = X1.shape[0]\n",
        "\n",
        "  X = pd.concat([X0,X1])\n",
        "  y = [0] * n0\n",
        "  y.extend([1]*n1); y = np.array(y)\n",
        "  lr = LR(random_state=0).fit(X,y)\n",
        "  ## \n",
        "  y_pred = lr.predict_proba(X)[:,1]\n",
        "  auc = roc_auc_score(y, y_pred)\n",
        "  est_coef = lr.coef_[0]\n",
        "  if bool: \n",
        "    est_coef = anchor_est_coef(est_coef)\n",
        "\n",
        "  if auc >=0.5:\n",
        "    return est_coef, auc\n",
        "  else:\n",
        "    return -est_coef, 1-auc\n"
      ],
      "execution_count": null,
      "outputs": []
    },
    {
      "cell_type": "code",
      "metadata": {
        "id": "66dHSAlrgZc7",
        "colab": {
          "base_uri": "https://localhost:8080/"
        },
        "outputId": "67272ecf-b2bb-4999-bc6a-cfe3c69fd1f8"
      },
      "source": [
        "coef, auc = logistic(X0,X1,bool = False)\n",
        "print('estimated coef is %s' % coef)\n",
        "print('empirical AUC is %s' % auc)"
      ],
      "execution_count": null,
      "outputs": [
        {
          "output_type": "stream",
          "text": [
            "estimated coef is [ 0.08983826  0.15290624  0.33386934 -0.43478166]\n",
            "empirical AUC is 0.7140039447731755\n"
          ],
          "name": "stdout"
        }
      ]
    },
    {
      "cell_type": "code",
      "metadata": {
        "id": "zjOb4_CswW61",
        "colab": {
          "base_uri": "https://localhost:8080/"
        },
        "outputId": "4d31808b-c933-4202-c6c1-5e2078d43c15"
      },
      "source": [
        "coef, auc = logistic(X0,X1)\n",
        "print('estimated coef is %s' % coef)\n",
        "print('empirical AUC is %s' % auc)"
      ],
      "execution_count": null,
      "outputs": [
        {
          "output_type": "stream",
          "text": [
            "estimated coef is [ 1.          1.70201691  3.71633799 -4.83960459]\n",
            "empirical AUC is 0.7140039447731755\n"
          ],
          "name": "stdout"
        }
      ]
    },
    {
      "cell_type": "markdown",
      "metadata": {
        "id": "0evF2QWDST-w"
      },
      "source": [
        "Pepe method"
      ]
    },
    {
      "cell_type": "code",
      "metadata": {
        "id": "baWf5SvQ2_LO"
      },
      "source": [
        "def nonp_combine2_auc(l1,l2, X0, X1):\n",
        "  \"\"\"\n",
        "  compute nonparametric AUC when X0 and X1 has two cols for given coef (l1,l2)\n",
        "  l1: first coef\n",
        "  l2: second coef\n",
        "  X0: df, design matrix for class '0'\n",
        "  X1: df, design matrix for class '1'\n",
        "  \"\"\"\n",
        "  n0 = X0.shape[0]\n",
        "  n1 = X1.shape[0]\n",
        "  s0 = np.matmul(X0.to_numpy(), np.array([l1,l2]))\n",
        "  s1 = np.matmul(X1.to_numpy(), np.array([l1,l2]))\n",
        "  return NonpAUC(s0,s1)\n",
        "\n",
        "\n",
        "def pepe(X0,X1, evalnum = 201, bool = True):\n",
        "  \"\"\"\n",
        "  compute the coef that has max nonparametric AUC, X0 and X1 has two cols.\n",
        "  X0: df, design matrix for class '0'\n",
        "  X1: df, design matrix for class '1'\n",
        "  \"\"\"\n",
        "\n",
        "  l = np.linspace(start=-1, stop=1, num=evalnum)\n",
        "  #l2 = np.linspace(start=-1, stop=1, num=evalnum)\n",
        "  auc_l1 = [nonp_combine2_auc(e,1,X0,X1) for e in l]  \n",
        "  auc_l2 = [nonp_combine2_auc(1,e,X0,X1) for e in l] \n",
        "  if max(auc_l1) > max(auc_l2):\n",
        "    ind = auc_l1.index(max(auc_l1))\n",
        "    est_coef = np.array([l[ind],1])\n",
        "    if bool: \n",
        "      est_coef = anchor_est_coef(est_coef)\n",
        "    return est_coef, max(auc_l1)\n",
        "  \n",
        "  else:\n",
        "    ind = auc_l2.index(max(auc_l2))\n",
        "    est_coef = np.array([1,l[ind]])\n",
        "    if bool: \n",
        "      est_coef = anchor_est_coef(est_coef)\n",
        "    return est_coef, max(auc_l2)"
      ],
      "execution_count": null,
      "outputs": []
    },
    {
      "cell_type": "code",
      "metadata": {
        "id": "Uz_dGwydggCB",
        "colab": {
          "base_uri": "https://localhost:8080/"
        },
        "outputId": "3ef90f76-8112-4d7e-b75c-599b5098c51d"
      },
      "source": [
        "X0_2 = X0.loc[:,['FIB4','LSVR']]; X1_2 = X1.loc[:,['FIB4','LSVR']]\n",
        "coef, auc = pepe(X0_2,X1_2, bool = False)\n",
        "print('estimated coef is %s' % coef)\n",
        "print('empirical AUC is %s' % auc)"
      ],
      "execution_count": null,
      "outputs": [
        {
          "output_type": "stream",
          "text": [
            "estimated coef is [ 1.   -0.76]\n",
            "empirical AUC is 0.7164694280078896\n"
          ],
          "name": "stdout"
        }
      ]
    },
    {
      "cell_type": "markdown",
      "metadata": {
        "id": "oIyYtHqZknjJ"
      },
      "source": [
        "Min-max"
      ]
    },
    {
      "cell_type": "code",
      "metadata": {
        "id": "fecGXSw1i3G2"
      },
      "source": [
        "def liu(X0, X1, bool = True):\n",
        "  \"\"\"\n",
        "  X0: df, design matrix for class '0'\n",
        "  X1: df, design matrix for class '1'\n",
        "  \"\"\"\n",
        "  # get min max row-wise\n",
        "  max_min_X0 = np.concatenate( (  np.amax(X0.to_numpy(), axis=1).reshape(-1,1) , np.amin(X0.to_numpy(), axis=1).reshape(-1,1)  ), axis =1 ) \n",
        "  max_min_X1 = np.concatenate( (  np.amax(X1.to_numpy(), axis=1).reshape(-1,1) , np.amin(X1.to_numpy(), axis=1).reshape(-1,1)  ), axis =1 ) \n",
        "  max_min_X0 = pd.DataFrame(data = max_min_X0); max_min_X1 = pd.DataFrame(data = max_min_X1)\n",
        "  return pepe(max_min_X0, max_min_X1, bool = bool)\n",
        "  "
      ],
      "execution_count": null,
      "outputs": []
    },
    {
      "cell_type": "code",
      "metadata": {
        "id": "5ETE5BX8glSq",
        "colab": {
          "base_uri": "https://localhost:8080/"
        },
        "outputId": "58cbdc49-c3b3-42b0-b063-f9aa16e066fd"
      },
      "source": [
        "coef, auc = liu(X0,X1, bool = False)\n",
        "print('estimated coef is %s' % coef)\n",
        "print('empirical AUC is %s' % auc)"
      ],
      "execution_count": null,
      "outputs": [
        {
          "output_type": "stream",
          "text": [
            "estimated coef is [ 1.   -0.94]\n",
            "empirical AUC is 0.6338757396449705\n"
          ],
          "name": "stdout"
        }
      ]
    },
    {
      "cell_type": "markdown",
      "metadata": {
        "id": "H5v5MRO0tY0-"
      },
      "source": [
        "stepwise"
      ]
    },
    {
      "cell_type": "code",
      "metadata": {
        "id": "B3ar5YSEBgd4"
      },
      "source": [
        "def auc_check(X0, X1):\n",
        "  \"\"\"calculate AUC for every var\n",
        "  X0: df, design matrix for class '0'\n",
        "  X1: df, design matrix for class '1'\n",
        "  \"\"\"\n",
        "  p = X0.shape[1]\n",
        "  auc_list = []\n",
        "  for i in list(X0.columns):\n",
        "    auc_list.append(NonpAUC(X0.loc[:,i], X1.loc[:,i] ) )\n",
        "\n",
        "  return auc_list"
      ],
      "execution_count": null,
      "outputs": []
    },
    {
      "cell_type": "code",
      "metadata": {
        "id": "4NgrDFwnbTNj",
        "colab": {
          "base_uri": "https://localhost:8080/"
        },
        "outputId": "9bbea4e2-fa08-44cf-b4b5-8667271c7e8b"
      },
      "source": [
        "auc_check(X0,X1)"
      ],
      "execution_count": null,
      "outputs": [
        {
          "output_type": "execute_result",
          "data": {
            "text/plain": [
              "[0.5827580539119, 0.5613083497698882, 0.715154503616042, 0.49539776462853385]"
            ]
          },
          "metadata": {
            "tags": []
          },
          "execution_count": 91
        }
      ]
    },
    {
      "cell_type": "code",
      "metadata": {
        "id": "LkgBL3CjfnT0"
      },
      "source": [
        "def stepwise(X0, X1, bool = True):\n",
        "  n0 = X0.shape[0]\n",
        "  n1 = X1.shape[0]\n",
        "  varnum = X0.shape[1]\n",
        "  combcoef = []\n",
        "  ## step down\n",
        "  auc_order = np.array(auc_check(X0,X1))\n",
        "  sort_index = np.argsort(auc_order); sort_index= sort_index[::-1] ## auc_order[sort_index[0]] largest,  auc_order[sort_index[len()]] smallest\n",
        "  combmarker0 = X0.iloc[:,[sort_index[0]]].copy() # pd\n",
        "  combmarker1 = X1.iloc[:,[sort_index[0]]].copy() # pd\n",
        "  nal_coef = [1]\n",
        "  for i in range(1,varnum):\n",
        "    #combmarker0 = pd.concat([combmarker0, X0.iloc[:, [sort_index[i]] ] ], axis= 1,ignore_index = True)\n",
        "    #combmarker1 = pd.concat([combmarker1, X1.iloc[:, [sort_index[i]] ] ], axis= 1,ignore_index = True)\n",
        "    combmarker0['new'] =  X0.iloc[:, [ sort_index[i] ] ].to_numpy() \n",
        "    combmarker1['new'] =  X1.iloc[:, [ sort_index[i] ] ].to_numpy()\n",
        "    temp_inf , _ = pepe(combmarker0,combmarker1, bool= False)\n",
        "    #print(temp_inf)\n",
        "    combcoef.append(temp_inf)\n",
        "    nal_coef = temp_inf[0]*np.array(nal_coef); nal_coef = list(nal_coef); nal_coef.append(temp_inf[1])\n",
        "    combmarker0 = pd.DataFrame(data = np.matmul( combmarker0.to_numpy(),  temp_inf))\n",
        "    combmarker1 = pd.DataFrame(data = np.matmul( combmarker1.to_numpy(),  temp_inf))\n",
        "  \n",
        "  est_coef = np.array([0.]*varnum) ## None has dtype problem, 0. makes float dtype. \n",
        "  for i in range(varnum):\n",
        "    est_coef[sort_index[i]] = nal_coef[i]\n",
        "  auc = NonpAUC( np.matmul(X0.to_numpy() ,est_coef ) , np.matmul(X1.to_numpy() ,est_coef ))\n",
        "  \n",
        "  if auc >=0.5:\n",
        "    return est_coef, auc\n",
        "  else:\n",
        "    return -est_coef, 1-auc\n"
      ],
      "execution_count": null,
      "outputs": []
    },
    {
      "cell_type": "code",
      "metadata": {
        "id": "PQHV_283hIVt",
        "colab": {
          "base_uri": "https://localhost:8080/"
        },
        "outputId": "67988437-ed89-4fa8-8d07-b1b36712fcfd"
      },
      "source": [
        "coef, auc = stepwise(X0,X1)\n",
        "print('estimated coef is %s' % coef)\n",
        "print('empirical AUC is %s' % auc)"
      ],
      "execution_count": null,
      "outputs": [
        {
          "output_type": "stream",
          "text": [
            "estimated coef is [ 0.29  0.03  1.   -0.16]\n",
            "empirical AUC is 0.7271531886916502\n"
          ],
          "name": "stdout"
        }
      ]
    },
    {
      "cell_type": "code",
      "metadata": {
        "id": "HR0aK8yViFo6",
        "colab": {
          "base_uri": "https://localhost:8080/"
        },
        "outputId": "ef83e367-15cb-48a0-8e37-10a0e4565830"
      },
      "source": [
        "coef"
      ],
      "execution_count": null,
      "outputs": [
        {
          "output_type": "execute_result",
          "data": {
            "text/plain": [
              "array([ 0.24, -0.01,  1.  , -0.76])"
            ]
          },
          "metadata": {
            "tags": []
          },
          "execution_count": 54
        }
      ]
    },
    {
      "cell_type": "markdown",
      "metadata": {
        "id": "OjRshA2y7in4"
      },
      "source": [
        "# Resubstitution"
      ]
    },
    {
      "cell_type": "code",
      "metadata": {
        "id": "HbTKAsRefAOm"
      },
      "source": [
        "class AllMethod:\n",
        "  def __init__(self, method, bool_trans = True):\n",
        "    \"\"\"\n",
        "    method: a string, specify which linear combination method to use. ['suliu', 'pepe', 'min-max','stepwise', 'rf', 'svml', 'svmr', 'logistic']\n",
        "    bool_trans: whether to perform log transformation\n",
        "    \"\"\"\n",
        "    self.method = method\n",
        "    self.bool_trans = bool_trans\n",
        "  def fit(self, X0, X1):\n",
        "    \"\"\"Train the model\n",
        "    X0: df, design matrix for class '0'\n",
        "    X1: df, design matrix for class '1'\n",
        "    return: self, \n",
        "    obtain self.coef_ or self.mod, and self.fitted_auc \n",
        "    \"\"\"\n",
        "    if self.bool_trans:\n",
        "      X0 = np.log(X0); X1 = np.log(X1)\n",
        "\n",
        "    if self.method == 'suliu':\n",
        "      self.coef_, self.fiited_auc_ = suliu(X0,X1,bool=False)\n",
        "      \n",
        "    elif self.method == 'logistic':\n",
        "      self.coef_, self.fiited_auc_ = logistic(X0,X1,bool=False)\n",
        "\n",
        "    elif self.method == 'min-max':\n",
        "      self.coef_, self.fiited_auc_ = liu(X0,X1,bool=False)\n",
        "    \n",
        "    elif self.method == 'stepwise':\n",
        "      self.coef_, self.fiited_auc_ = stepwise(X0,X1,bool=False)\n",
        "\n",
        "    elif self.method == 'pepe':\n",
        "      if X0.shape[1] != 2: \n",
        "        raise ValueError(\"Passed array is not of the right shape\")\n",
        "      self.coef_, self.fiited_auc_ = pepe(X0,X1,bool=False)\n",
        "\n",
        "    elif self.method == 'svml':\n",
        "      self.mod_, self.fiited_auc_ = svm_l(X0,X1)\n",
        "\n",
        "    elif self.method == 'svmr':\n",
        "      self.mod_, self.fiited_auc_ = svm_r(X0,X1)\n",
        "\n",
        "    elif self.method == 'rf':\n",
        "      self.mod_, self.fiited_auc_ = randomforst(X0,X1)\n",
        "    return self\n",
        "\n",
        "  def predict(self, X0, X1):\n",
        "    \"\"\"predict \n",
        "    X0: df, design matrix for class '0'\n",
        "    X1: df, design matrix for class '1'\n",
        "    return: y0, y1\n",
        "    \"\"\"\n",
        "\n",
        "    if self.bool_trans:\n",
        "      X0 = np.log(X0); X1 = np.log(X1)\n",
        "    \n",
        "    if self.method in ['rf', 'svml', 'svmr']: ## no self.coef_ , self.mod_\n",
        "      y0 = self.mod_.predict_proba(X0)[:,1]\n",
        "      y1 = self.mod_.predict_proba(X1)[:,1]\n",
        "      auc = NonpAUC(y0, y1)\n",
        "      return y0, y1, auc\n",
        "\n",
        "    else: ## other methods, which return self.coef_\n",
        "      if self.method == 'min-max':\n",
        "        max_min_X0 = np.concatenate( (  np.amax(X0.to_numpy(), axis=1).reshape(-1,1) , np.amin(X0.to_numpy(), axis=1).reshape(-1,1)  ), axis =1 ) \n",
        "        max_min_X1 = np.concatenate( (  np.amax(X1.to_numpy(), axis=1).reshape(-1,1) , np.amin(X1.to_numpy(), axis=1).reshape(-1,1)  ), axis =1 ) \n",
        "        X0 = pd.DataFrame(data = max_min_X0); X1 = pd.DataFrame(data = max_min_X1)\n",
        "      \n",
        "      y0 = np.matmul(X0.to_numpy(), self.coef_ )\n",
        "      y1 = np.matmul(X1.to_numpy(), self.coef_ )\n",
        "      auc = NonpAUC(y0, y1)\n",
        "      return y0, y1, auc\n",
        "\n",
        "  \n",
        "  def roc_plot(self, X0, X1):\n",
        "    #if self.bool_trans:\n",
        "    #  X0 = np.log(X0); X1 = np.log(X1) ## in self.predict, already did the transformation!\n",
        "\n",
        "    n0 = X0.shape[0]; n1 = X1.shape[0]\n",
        "    y0, y1, auc = self.predict(X0,X1); #print(y0); print(y1)\n",
        "    y = [0] * n0\n",
        "    y.extend([1]*n1); y = np.array(y); #print(y)\n",
        "    y_pred = np.concatenate((y0,y1)); #print(y_pred)\n",
        "    fpr, tpr, thresholds = roc_curve(y, y_pred, pos_label=1)\n",
        "    plt.title('Receiver Operating Characteristic, Method: % s' % self.method)\n",
        "    plt.plot(fpr, tpr, 'b', label = 'AUC = %0.2f' % auc)\n",
        "    plt.legend(loc = 'lower right')\n",
        "    plt.plot([0, 1], [0, 1],'r--')\n",
        "    plt.xlim([0, 1])\n",
        "    plt.ylim([0, 1])\n",
        "    plt.ylabel('True Positive Rate')\n",
        "    plt.xlabel('False Positive Rate')\n",
        "    plt.show()"
      ],
      "execution_count": null,
      "outputs": []
    },
    {
      "cell_type": "code",
      "metadata": {
        "id": "LKNxQhT0hwq4",
        "colab": {
          "base_uri": "https://localhost:8080/",
          "height": 329
        },
        "outputId": "c6b7c662-e774-4fbd-c6cd-669c5f896437"
      },
      "source": [
        "lc = AllMethod(method= 'suliu')\n",
        "lc.fit(X0,X1)\n",
        "print('estimated coef is %s' % lc.coef_)\n",
        "print('fitted AUC is %s' % lc.fiited_auc_)\n",
        "lc.roc_plot(X0,X1)"
      ],
      "execution_count": null,
      "outputs": [
        {
          "output_type": "stream",
          "text": [
            "estimated coef is [ 0.21321549  0.16823261  0.4881565  -0.17820335]\n",
            "fitted AUC is 0.7310979618671927\n"
          ],
          "name": "stdout"
        },
        {
          "output_type": "display_data",
          "data": {
            "image/png": "[encoded data removed]",
            "text/plain": [
              "<Figure size 432x288 with 1 Axes>"
            ]
          },
          "metadata": {
            "tags": [],
            "needs_background": "light"
          }
        }
      ]
    },
    {
      "cell_type": "code",
      "metadata": {
        "id": "XTMNbJjWiAXy",
        "colab": {
          "base_uri": "https://localhost:8080/",
          "height": 329
        },
        "outputId": "c52846e9-0b60-4de8-f87c-d9f95b82b43d"
      },
      "source": [
        "lc = AllMethod(method= 'logistic')\n",
        "lc.fit(X0,X1)\n",
        "print('estimated coef is %s' % lc.coef_)\n",
        "print('fitted AUC is %s' % lc.fiited_auc_)\n",
        "lc.roc_plot(X0,X1)"
      ],
      "execution_count": null,
      "outputs": [
        {
          "output_type": "stream",
          "text": [
            "estimated coef is [ 0.3739178   0.32003469  0.95818109 -0.29334323]\n",
            "fitted AUC is 0.7287968441814595\n"
          ],
          "name": "stdout"
        },
        {
          "output_type": "display_data",
          "data": {
            "image/png": "[encoded data removed]",
            "text/plain": [
              "<Figure size 432x288 with 1 Axes>"
            ]
          },
          "metadata": {
            "tags": [],
            "needs_background": "light"
          }
        }
      ]
    },
    {
      "cell_type": "code",
      "metadata": {
        "id": "sXo79Jm8iL2z",
        "colab": {
          "base_uri": "https://localhost:8080/",
          "height": 312
        },
        "outputId": "c117780e-3189-4057-be97-f0187002bb07"
      },
      "source": [
        "lc = AllMethod(method= 'rf')\n",
        "lc.fit(X0,X1)\n",
        "#print('estimated coef is %s' % lc.coef_)\n",
        "print('fitted AUC is %s' % lc.fiited_auc_)\n",
        "lc.roc_plot(X0,X1)"
      ],
      "execution_count": null,
      "outputs": [
        {
          "output_type": "stream",
          "text": [
            "fitted AUC is 0.7962689020381327\n"
          ],
          "name": "stdout"
        },
        {
          "output_type": "display_data",
          "data": {
            "image/png": "[encoded data removed]",
            "text/plain": [
              "<Figure size 432x288 with 1 Axes>"
            ]
          },
          "metadata": {
            "tags": [],
            "needs_background": "light"
          }
        }
      ]
    },
    {
      "cell_type": "code",
      "metadata": {
        "id": "B93At8jmjcOA",
        "colab": {
          "base_uri": "https://localhost:8080/",
          "height": 312
        },
        "outputId": "9398a3dc-db4c-4653-f537-df526f4fb6d7"
      },
      "source": [
        "lc = AllMethod(method= 'svml')\n",
        "lc.fit(X0,X1)\n",
        "#print('estimated coef is %s' % lc.coef_)\n",
        "print('fitted AUC is %s' % lc.fiited_auc_)\n",
        "lc.roc_plot(X0,X1)"
      ],
      "execution_count": null,
      "outputs": [
        {
          "output_type": "stream",
          "text": [
            "fitted AUC is 0.7294543063773833\n"
          ],
          "name": "stdout"
        },
        {
          "output_type": "display_data",
          "data": {
            "image/png": "[encoded data removed]",
            "text/plain": [
              "<Figure size 432x288 with 1 Axes>"
            ]
          },
          "metadata": {
            "tags": [],
            "needs_background": "light"
          }
        }
      ]
    },
    {
      "cell_type": "code",
      "metadata": {
        "id": "P14Ko7o_jiJA",
        "colab": {
          "base_uri": "https://localhost:8080/",
          "height": 312
        },
        "outputId": "c3570848-47a0-4769-88f3-efa57e6b025b"
      },
      "source": [
        "lc = AllMethod(method= 'svmr')\n",
        "lc.fit(X0,X1)\n",
        "#print('estimated coef is %s' % lc.coef_)\n",
        "print('fitted AUC is %s' % lc.fiited_auc_)\n",
        "lc.roc_plot(X0,X1)"
      ],
      "execution_count": null,
      "outputs": [
        {
          "output_type": "stream",
          "text": [
            "fitted AUC is 0.7427679158448389\n"
          ],
          "name": "stdout"
        },
        {
          "output_type": "display_data",
          "data": {
            "image/png": "[encoded data removed]",
            "text/plain": [
              "<Figure size 432x288 with 1 Axes>"
            ]
          },
          "metadata": {
            "tags": [],
            "needs_background": "light"
          }
        }
      ]
    },
    {
      "cell_type": "code",
      "metadata": {
        "id": "MM4B61OajmMX",
        "colab": {
          "base_uri": "https://localhost:8080/",
          "height": 329
        },
        "outputId": "d945413d-23dd-4068-f09f-7d849204e9d9"
      },
      "source": [
        "lc = AllMethod(method= 'stepwise')\n",
        "lc.fit(X0,X1)\n",
        "print('estimated coef is %s' % lc.coef_)\n",
        "print('fitted AUC is %s' % lc.fiited_auc_)\n",
        "lc.roc_plot(X0,X1)"
      ],
      "execution_count": null,
      "outputs": [
        {
          "output_type": "stream",
          "text": [
            "estimated coef is [ 0.97 -0.04  1.    0.  ]\n",
            "fitted AUC is 0.7357001972386588\n"
          ],
          "name": "stdout"
        },
        {
          "output_type": "display_data",
          "data": {
            "image/png": "[encoded data removed]",
            "text/plain": [
              "<Figure size 432x288 with 1 Axes>"
            ]
          },
          "metadata": {
            "tags": [],
            "needs_background": "light"
          }
        }
      ]
    },
    {
      "cell_type": "code",
      "metadata": {
        "id": "zr6dHE1xj8CX",
        "colab": {
          "base_uri": "https://localhost:8080/",
          "height": 329
        },
        "outputId": "fea1c6c8-5e7f-4ffd-9206-17a9194e34d2"
      },
      "source": [
        "lc = AllMethod(method= 'min-max')\n",
        "lc.fit(X0,X1)\n",
        "print('estimated coef is %s' % lc.coef_)\n",
        "print('fitted AUC is %s' % lc.fiited_auc_)\n",
        "lc.roc_plot(X0,X1)"
      ],
      "execution_count": null,
      "outputs": [
        {
          "output_type": "stream",
          "text": [
            "estimated coef is [ 1.   -0.11]\n",
            "fitted AUC is 0.6351906640368179\n"
          ],
          "name": "stdout"
        },
        {
          "output_type": "display_data",
          "data": {
            "image/png": "[encoded data removed]",
            "text/plain": [
              "<Figure size 432x288 with 1 Axes>"
            ]
          },
          "metadata": {
            "tags": [],
            "needs_background": "light"
          }
        }
      ]
    },
    {
      "cell_type": "code",
      "metadata": {
        "id": "IB_6Qnpyj_mA",
        "colab": {
          "base_uri": "https://localhost:8080/",
          "height": 329
        },
        "outputId": "c7ef74de-f1f6-4cc7-c4f6-b8277f269bdc"
      },
      "source": [
        "lc = AllMethod(method= 'pepe')\n",
        "lc.fit(X0_2,X1_2)\n",
        "print('estimated coef is %s' % lc.coef_)\n",
        "print('fitted AUC is %s' % lc.fiited_auc_)\n",
        "lc.roc_plot(X0_2,X1_2)"
      ],
      "execution_count": null,
      "outputs": [
        {
          "output_type": "stream",
          "text": [
            "estimated coef is [ 1.   -0.09]\n",
            "fitted AUC is 0.7159763313609467\n"
          ],
          "name": "stdout"
        },
        {
          "output_type": "display_data",
          "data": {
            "image/png": "[encoded data removed]",
            "text/plain": [
              "<Figure size 432x288 with 1 Axes>"
            ]
          },
          "metadata": {
            "tags": [],
            "needs_background": "light"
          }
        }
      ]
    },
    {
      "cell_type": "markdown",
      "metadata": {
        "id": "mHPhINst7mKn"
      },
      "source": [
        "# LOOPV"
      ]
    },
    {
      "cell_type": "markdown",
      "metadata": {
        "id": "NpF7YFg0_g15"
      },
      "source": [
        "$\\hat{AUC}^{cv} = \\frac{1}{n_1 n_2} \\sum_i \\sum_j I(X_i \\hat{c}^{-ij} < Y_j \\hat{c}^{-ij})$, 10-fold CV can be applied instead of LOPO CV to gain efficiency"
      ]
    },
    {
      "cell_type": "code",
      "metadata": {
        "id": "9vlPScwWCyuI"
      },
      "source": [
        "X = dat_1.loc[:, ['R1-NASH', 'R2-NASH', 'FIB4','LSVR']]\n",
        "Y = dat_1.loc[:,'NASH']"
      ],
      "execution_count": null,
      "outputs": []
    },
    {
      "cell_type": "code",
      "metadata": {
        "id": "MuOUvOvDGeaM"
      },
      "source": [
        "def helper(X, Y):\n",
        "  \"\"\"Take X, Y, return X0 and X1\n",
        "  X: df/array\n",
        "  Y: df.series\n",
        "  return X0, X1\n",
        "  \"\"\"\n",
        "  #try:\n",
        "  X0 = X.loc[Y == 0].copy()\n",
        "  #except:\n",
        "  #  X0 = X[Y == 0]\n",
        "  #try:\n",
        "  X1 = X.loc[Y == 1].copy()\n",
        "  #except:\n",
        "    #X1 = X[Y == 1]\n",
        "  return X0,X1"
      ],
      "execution_count": null,
      "outputs": []
    },
    {
      "cell_type": "code",
      "metadata": {
        "id": "rzzrp1WNsoxH"
      },
      "source": [
        "def get_cv(method,bool_trans,X,Y,n_splits=10,cv_type = \"StratifiedKFold\",verbose = True):  \n",
        "  \"\"\"Cross validation to get AUC.\n",
        "  method: str, ['suliu', 'pepe', 'min-max','stepwise', 'logistic']\n",
        "  X: design matrix\n",
        "  Y: labels\n",
        "  bool_trans: whether applied log transformation of X\n",
        "  \"\"\"\n",
        "  if cv_type == \"StratifiedKFold\":\n",
        "    cv = StratifiedKFold(n_splits= n_splits, shuffle=True, random_state=42) # The folds are made by preserving the percentage of samples for each class.\n",
        "  else: \n",
        "    cv = KFold(n_splits=n_splits, shuffle=True, random_state=42)\n",
        "  \n",
        "  model = AllMethod(method= method, bool_trans= bool_trans)\n",
        "  #training_time = []\n",
        "  AUC = []\n",
        "\n",
        "  for folder, (train_index, val_index) in enumerate(cv.split(X, Y)): \n",
        "    X_train,X_val = X.iloc[train_index],X.iloc[val_index]\n",
        "    y_train,y_val = Y.iloc[train_index],Y.iloc[val_index]\n",
        "    # \n",
        "    X0_train, X1_train = helper(X_train, y_train); X0_val, X1_val = helper(X_val, y_val)\n",
        "\n",
        "    model.fit(X0_train,X1_train)\n",
        "    _,_, auc = model.predict(X0_val,X1_val)\n",
        "    AUC.append(auc)\n",
        "    if verbose:\n",
        "        #print('estimated coef is %s' % model.coef_)\n",
        "        print('fitted AUC is %s' % model.fiited_auc_)\n",
        "        print(\"test auc in %s fold is %s\" % (folder+1,auc) )\n",
        "        print('____'*10)\n",
        "  return AUC      \n",
        "\n",
        "\n"
      ],
      "execution_count": null,
      "outputs": []
    },
    {
      "cell_type": "code",
      "metadata": {
        "colab": {
          "base_uri": "https://localhost:8080/"
        },
        "id": "oO4gx6j5FjbJ",
        "outputId": "8c96f02c-09a3-48f9-d830-8f34dd74232d"
      },
      "source": [
        "AUC = get_cv('svml',True,X,Y, 10)\n",
        "print(\"%s +/- %s\" % (np.mean(AUC), np.std(AUC) ) )"
      ],
      "execution_count": null,
      "outputs": [
        {
          "output_type": "stream",
          "text": [
            "fitted AUC is 0.726938775510204\n",
            "test auc in 1 fold is 0.796875\n",
            "________________________________________\n",
            "fitted AUC is 0.7312244897959184\n",
            "test auc in 2 fold is 0.703125\n",
            "________________________________________\n",
            "fitted AUC is 0.7446938775510205\n",
            "test auc in 3 fold is 0.46875\n",
            "________________________________________\n",
            "fitted AUC is 0.72\n",
            "test auc in 4 fold is 0.703125\n",
            "________________________________________\n",
            "fitted AUC is 0.7138775510204083\n",
            "test auc in 5 fold is 0.8125\n",
            "________________________________________\n",
            "fitted AUC is 0.7410204081632652\n",
            "test auc in 6 fold is 0.6875\n",
            "________________________________________\n",
            "fitted AUC is 0.7372233400402414\n",
            "test auc in 7 fold is 0.6607142857142857\n",
            "________________________________________\n",
            "fitted AUC is 0.7344064386317908\n",
            "test auc in 8 fold is 0.6339285714285714\n",
            "________________________________________\n",
            "fitted AUC is 0.7272635814889337\n",
            "test auc in 9 fold is 0.8214285714285714\n",
            "________________________________________\n",
            "fitted AUC is 0.7458752515090543\n",
            "test auc in 10 fold is 0.7678571428571429\n",
            "________________________________________\n",
            "0.7055803571428572 +/- 0.10031961240600373\n"
          ],
          "name": "stdout"
        }
      ]
    },
    {
      "cell_type": "code",
      "metadata": {
        "colab": {
          "base_uri": "https://localhost:8080/"
        },
        "id": "8YRrI6ZmFfJG",
        "outputId": "10e36b9f-7fe7-48de-90ad-38dd0e386be7"
      },
      "source": [
        "AUC = get_cv('svmr',True,X,Y, 10)\n",
        "print(\"%s +/- %s\" % (np.mean(AUC), np.std(AUC) ) )"
      ],
      "execution_count": null,
      "outputs": [
        {
          "output_type": "stream",
          "text": [
            "fitted AUC is 0.741326530612245\n",
            "test auc in 1 fold is 0.65625\n",
            "________________________________________\n",
            "fitted AUC is 0.7395918367346939\n",
            "test auc in 2 fold is 0.703125\n",
            "________________________________________\n",
            "fitted AUC is 0.7653061224489796\n",
            "test auc in 3 fold is 0.5\n",
            "________________________________________\n",
            "fitted AUC is 0.7428571428571429\n",
            "test auc in 4 fold is 0.703125\n",
            "________________________________________\n",
            "fitted AUC is 0.723265306122449\n",
            "test auc in 5 fold is 0.890625\n",
            "________________________________________\n",
            "fitted AUC is 0.7476530612244897\n",
            "test auc in 6 fold is 0.59375\n",
            "________________________________________\n",
            "fitted AUC is 0.7467806841046278\n",
            "test auc in 7 fold is 0.5892857142857143\n",
            "________________________________________\n",
            "fitted AUC is 0.7505030181086519\n",
            "test auc in 8 fold is 0.6428571428571429\n",
            "________________________________________\n",
            "fitted AUC is 0.7442655935613682\n",
            "test auc in 9 fold is 0.7678571428571429\n",
            "________________________________________\n",
            "fitted AUC is 0.7575452716297786\n",
            "test auc in 10 fold is 0.7142857142857143\n",
            "________________________________________\n",
            "0.6761160714285716 +/- 0.10207240522688305\n"
          ],
          "name": "stdout"
        }
      ]
    },
    {
      "cell_type": "code",
      "metadata": {
        "colab": {
          "base_uri": "https://localhost:8080/"
        },
        "id": "1aCXi4GlFFR7",
        "outputId": "55ada210-90f2-4779-a8ff-fa87882594f5"
      },
      "source": [
        "AUC = get_cv('rf',True,X,Y, 10)\n",
        "print(\"%s +/- %s\" % (np.mean(AUC), np.std(AUC) ) )"
      ],
      "execution_count": null,
      "outputs": [
        {
          "output_type": "stream",
          "text": [
            "fitted AUC is 0.803265306122449\n",
            "test auc in 1 fold is 0.703125\n",
            "________________________________________\n",
            "fitted AUC is 0.7903061224489796\n",
            "test auc in 2 fold is 0.703125\n",
            "________________________________________\n",
            "fitted AUC is 0.8291836734693878\n",
            "test auc in 3 fold is 0.53125\n",
            "________________________________________\n",
            "fitted AUC is 0.8057142857142856\n",
            "test auc in 4 fold is 0.75\n",
            "________________________________________\n",
            "fitted AUC is 0.8089795918367346\n",
            "test auc in 5 fold is 0.625\n",
            "________________________________________\n",
            "fitted AUC is 0.8033673469387755\n",
            "test auc in 6 fold is 0.703125\n",
            "________________________________________\n",
            "fitted AUC is 0.8064386317907445\n",
            "test auc in 7 fold is 0.5892857142857143\n",
            "________________________________________\n",
            "fitted AUC is 0.808148893360161\n",
            "test auc in 8 fold is 0.625\n",
            "________________________________________\n",
            "fitted AUC is 0.8009054325955735\n",
            "test auc in 9 fold is 0.7142857142857143\n",
            "________________________________________\n",
            "fitted AUC is 0.802112676056338\n",
            "test auc in 10 fold is 0.6428571428571429\n",
            "________________________________________\n",
            "0.6587053571428572 +/- 0.0639768902841774\n"
          ],
          "name": "stdout"
        }
      ]
    },
    {
      "cell_type": "code",
      "metadata": {
        "id": "iENwFhY5FOn7",
        "colab": {
          "base_uri": "https://localhost:8080/"
        },
        "outputId": "e54a9314-1017-4b4d-cb25-1fa96a8bc8b4"
      },
      "source": [
        "AUC = get_cv('suliu',True,X,Y, 10)\n",
        "print(\"%s +/- %s\" % (np.mean(AUC), np.std(AUC) ) )"
      ],
      "execution_count": null,
      "outputs": [
        {
          "output_type": "stream",
          "text": [
            "estimated coef is [ 0.16423173  0.17192216  0.47342439 -0.12295693]\n",
            "fitted AUC is 0.7267346938775511\n",
            "test auc in 1 fold is 0.765625\n",
            "________________________________________\n",
            "estimated coef is [ 0.21731215  0.1442442   0.48624776 -0.16141146]\n",
            "fitted AUC is 0.7289795918367347\n",
            "test auc in 2 fold is 0.734375\n",
            "________________________________________\n",
            "estimated coef is [ 0.13931094  0.13529973  0.55098935 -0.27915203]\n",
            "fitted AUC is 0.746938775510204\n",
            "test auc in 3 fold is 0.5\n",
            "________________________________________\n",
            "estimated coef is [ 0.12425578  0.23213496  0.48220717 -0.28767322]\n",
            "fitted AUC is 0.7197959183673469\n",
            "test auc in 4 fold is 0.75\n",
            "________________________________________\n",
            "estimated coef is [ 0.24492085  0.11601341  0.45365693 -0.28462872]\n",
            "fitted AUC is 0.7140816326530612\n",
            "test auc in 5 fold is 0.8125\n",
            "________________________________________\n",
            "estimated coef is [ 0.24570791  0.2356877   0.49591478 -0.0419022 ]\n",
            "fitted AUC is 0.7381632653061224\n",
            "test auc in 6 fold is 0.6875\n",
            "________________________________________\n",
            "estimated coef is [ 0.18239232  0.18196116  0.50291065 -0.15176223]\n",
            "fitted AUC is 0.7342052313883299\n",
            "test auc in 7 fold is 0.6607142857142857\n",
            "________________________________________\n",
            "estimated coef is [ 0.34008299  0.05934477  0.5026391  -0.20745808]\n",
            "fitted AUC is 0.7402414486921529\n",
            "test auc in 8 fold is 0.6607142857142857\n",
            "________________________________________\n",
            "estimated coef is [ 0.14874906  0.22225241  0.45974634 -0.06727135]\n",
            "fitted AUC is 0.7243460764587525\n",
            "test auc in 9 fold is 0.7857142857142857\n",
            "________________________________________\n",
            "estimated coef is [ 0.33276822  0.19251732  0.48782851 -0.15946363]\n",
            "fitted AUC is 0.741851106639839\n",
            "test auc in 10 fold is 0.7678571428571429\n",
            "________________________________________\n",
            "0.7125 +/- 0.08618384219569376\n"
          ],
          "name": "stdout"
        }
      ]
    },
    {
      "cell_type": "code",
      "metadata": {
        "id": "nW8LNA85I1q_",
        "colab": {
          "base_uri": "https://localhost:8080/"
        },
        "outputId": "3f3e0759-03cb-4139-9867-5004f677c74d"
      },
      "source": [
        "AUC = get_cv('logistic',True,X,Y, 10)\n",
        "print(\"%s +/- %s\" % (np.mean(AUC), np.std(AUC) ) )"
      ],
      "execution_count": null,
      "outputs": [
        {
          "output_type": "stream",
          "text": [
            "estimated coef is [ 0.28158991  0.32233219  0.92826485 -0.18068051]\n",
            "fitted AUC is 0.7244897959183674\n",
            "test auc in 1 fold is 0.75\n",
            "________________________________________\n",
            "estimated coef is [ 0.373677    0.27618509  0.95155479 -0.25891987]\n",
            "fitted AUC is 0.7308163265306122\n",
            "test auc in 2 fold is 0.734375\n",
            "________________________________________\n",
            "estimated coef is [ 0.24383946  0.24615408  1.08274099 -0.44774212]\n",
            "fitted AUC is 0.7479591836734694\n",
            "test auc in 3 fold is 0.5\n",
            "________________________________________\n",
            "estimated coef is [ 0.22811827  0.40137934  0.93614165 -0.4649891 ]\n",
            "fitted AUC is 0.7189795918367347\n",
            "test auc in 4 fold is 0.765625\n",
            "________________________________________\n",
            "estimated coef is [ 0.41094614  0.23594975  0.88292317 -0.46491883]\n",
            "fitted AUC is 0.7138775510204082\n",
            "test auc in 5 fold is 0.828125\n",
            "________________________________________\n",
            "estimated coef is [ 0.44093755  0.44058256  0.94531732 -0.06193732]\n",
            "fitted AUC is 0.7375510204081632\n",
            "test auc in 6 fold is 0.6875\n",
            "________________________________________\n",
            "estimated coef is [ 0.32910905  0.332807    0.98774405 -0.24591826]\n",
            "fitted AUC is 0.7354124748490946\n",
            "test auc in 7 fold is 0.6607142857142857\n",
            "________________________________________\n",
            "estimated coef is [ 0.56347141  0.15363703  0.98565491 -0.33833234]\n",
            "fitted AUC is 0.7382293762575453\n",
            "test auc in 8 fold is 0.6607142857142857\n",
            "________________________________________\n",
            "estimated coef is [ 0.27618419  0.39833417  0.90792839 -0.10900131]\n",
            "fitted AUC is 0.7227364185110664\n",
            "test auc in 9 fold is 0.7857142857142857\n",
            "________________________________________\n",
            "estimated coef is [ 0.56450737  0.37232344  0.94704529 -0.25749434]\n",
            "fitted AUC is 0.7432595573440643\n",
            "test auc in 10 fold is 0.7857142857142857\n",
            "________________________________________\n",
            "0.7158482142857142 +/- 0.08934735595384945\n"
          ],
          "name": "stdout"
        }
      ]
    },
    {
      "cell_type": "code",
      "metadata": {
        "id": "0L-6H41oI6jh",
        "colab": {
          "base_uri": "https://localhost:8080/"
        },
        "outputId": "91d42b4e-3160-4aaf-8fac-b347ef14d3d6"
      },
      "source": [
        "AUC = get_cv('min-max',True,X,Y, 10)\n",
        "print(\"%s +/- %s\" % (np.mean(AUC), np.std(AUC) ) )"
      ],
      "execution_count": null,
      "outputs": [
        {
          "output_type": "stream",
          "text": [
            "estimated coef is [1.   0.33]\n",
            "fitted AUC is 0.6337755102040816\n",
            "test auc in 1 fold is 0.71875\n",
            "________________________________________\n",
            "estimated coef is [ 1.   -0.11]\n",
            "fitted AUC is 0.6323469387755102\n",
            "test auc in 2 fold is 0.671875\n",
            "________________________________________\n",
            "estimated coef is [ 1.   -0.11]\n",
            "fitted AUC is 0.6410204081632653\n",
            "test auc in 3 fold is 0.5625\n",
            "________________________________________\n",
            "estimated coef is [ 1.   -0.11]\n",
            "fitted AUC is 0.6159183673469387\n",
            "test auc in 4 fold is 0.796875\n",
            "________________________________________\n",
            "estimated coef is [ 1.   -0.79]\n",
            "fitted AUC is 0.626938775510204\n",
            "test auc in 5 fold is 0.4921875\n",
            "________________________________________\n",
            "estimated coef is [1.   0.09]\n",
            "fitted AUC is 0.6294897959183674\n",
            "test auc in 6 fold is 0.671875\n",
            "________________________________________\n",
            "estimated coef is [ 1.   -0.11]\n",
            "fitted AUC is 0.6224346076458752\n",
            "test auc in 7 fold is 0.7321428571428571\n",
            "________________________________________\n",
            "estimated coef is [ 1.   -0.11]\n",
            "fitted AUC is 0.6488933601609658\n",
            "test auc in 8 fold is 0.5089285714285714\n",
            "________________________________________\n",
            "estimated coef is [1.   0.47]\n",
            "fitted AUC is 0.6416498993963783\n",
            "test auc in 9 fold is 0.44642857142857145\n",
            "________________________________________\n",
            "estimated coef is [ 1.   -0.11]\n",
            "fitted AUC is 0.6841046277665996\n",
            "test auc in 10 fold is 0.16071428571428573\n",
            "________________________________________\n",
            "0.5762276785714285 +/- 0.17688520970253982\n"
          ],
          "name": "stdout"
        }
      ]
    },
    {
      "cell_type": "code",
      "metadata": {
        "id": "c6PbosCrI9po",
        "colab": {
          "base_uri": "https://localhost:8080/"
        },
        "outputId": "410ba150-86de-4d3f-f1f7-6667ec857f5c"
      },
      "source": [
        "AUC = get_cv('stepwise',True,X,Y, 10)\n",
        "print(\"%s +/- %s\" % (np.mean(AUC), np.std(AUC) ) )"
      ],
      "execution_count": null,
      "outputs": [
        {
          "output_type": "stream",
          "text": [
            "estimated coef is [ 0.97  0.03  1.   -0.15]\n",
            "fitted AUC is 0.733265306122449\n",
            "test auc in 1 fold is 0.8125\n",
            "________________________________________\n",
            "estimated coef is [ 0.97 -0.04  1.    0.  ]\n",
            "fitted AUC is 0.7374489795918368\n",
            "test auc in 2 fold is 0.71875\n",
            "________________________________________\n",
            "estimated coef is [0.45 0.09 1.   0.  ]\n",
            "fitted AUC is 0.7518367346938776\n",
            "test auc in 3 fold is 0.578125\n",
            "________________________________________\n",
            "estimated coef is [ 0.97  0.    1.   -0.12]\n",
            "fitted AUC is 0.723265306122449\n",
            "test auc in 4 fold is 0.84375\n",
            "________________________________________\n",
            "estimated coef is [ 0.97 -0.04  1.   -0.08]\n",
            "fitted AUC is 0.7222448979591837\n",
            "test auc in 5 fold is 0.859375\n",
            "________________________________________\n",
            "estimated coef is [0.97 0.44 1.   0.39]\n",
            "fitted AUC is 0.740204081632653\n",
            "test auc in 6 fold is 0.671875\n",
            "________________________________________\n",
            "estimated coef is [0.93 0.02 1.   0.  ]\n",
            "fitted AUC is 0.7421529175050302\n",
            "test auc in 7 fold is 0.6428571428571429\n",
            "________________________________________\n",
            "estimated coef is [ 0.97  0.    1.   -0.12]\n",
            "fitted AUC is 0.7464788732394366\n",
            "test auc in 8 fold is 0.6607142857142857\n",
            "________________________________________\n",
            "estimated coef is [0.97 0.37 1.   0.  ]\n",
            "fitted AUC is 0.7279678068410462\n",
            "test auc in 9 fold is 0.7678571428571429\n",
            "________________________________________\n",
            "estimated coef is [1.   0.   0.84 0.19]\n",
            "fitted AUC is 0.7501006036217304\n",
            "test auc in 10 fold is 0.5535714285714286\n",
            "________________________________________\n",
            "0.7109375000000001 +/- 0.1021641324777119\n"
          ],
          "name": "stdout"
        }
      ]
    },
    {
      "cell_type": "code",
      "metadata": {
        "id": "y3FT0DWbJATP",
        "colab": {
          "base_uri": "https://localhost:8080/"
        },
        "outputId": "82df3461-b45f-4f6b-c2fa-fc14ca175ef8"
      },
      "source": [
        "X_2 = X.loc[:,['FIB4','LSVR']]\n",
        "AUC = get_cv('pepe',True,X_2,Y, 10)\n",
        "print(\"%s +/- %s\" % (np.mean(AUC), np.std(AUC) ) )"
      ],
      "execution_count": null,
      "outputs": [
        {
          "output_type": "stream",
          "text": [
            "estimated coef is [1.   0.15]\n",
            "fitted AUC is 0.7171428571428572\n",
            "test auc in 1 fold is 0.703125\n",
            "________________________________________\n",
            "estimated coef is [1.   0.15]\n",
            "fitted AUC is 0.716530612244898\n",
            "test auc in 2 fold is 0.6875\n",
            "________________________________________\n",
            "estimated coef is [ 1.   -0.09]\n",
            "fitted AUC is 0.7446938775510205\n",
            "test auc in 3 fold is 0.5\n",
            "________________________________________\n",
            "estimated coef is [ 1.   -0.23]\n",
            "fitted AUC is 0.7073469387755102\n",
            "test auc in 4 fold is 0.703125\n",
            "________________________________________\n",
            "estimated coef is [ 1. -1.]\n",
            "fitted AUC is 0.6989795918367347\n",
            "test auc in 5 fold is 0.734375\n",
            "________________________________________\n",
            "estimated coef is [1.   0.15]\n",
            "fitted AUC is 0.71\n",
            "test auc in 6 fold is 0.796875\n",
            "________________________________________\n",
            "estimated coef is [1.   0.14]\n",
            "fitted AUC is 0.7259557344064387\n",
            "test auc in 7 fold is 0.5892857142857143\n",
            "________________________________________\n",
            "estimated coef is [ 1.   -0.23]\n",
            "fitted AUC is 0.7209255533199195\n",
            "test auc in 8 fold is 0.7142857142857143\n",
            "________________________________________\n",
            "estimated coef is [1.   0.15]\n",
            "fitted AUC is 0.7116700201207243\n",
            "test auc in 9 fold is 0.6964285714285714\n",
            "________________________________________\n",
            "estimated coef is [1.   0.15]\n",
            "fitted AUC is 0.7189134808853118\n",
            "test auc in 10 fold is 0.7321428571428571\n",
            "________________________________________\n",
            "0.6857142857142857 +/- 0.07887269757951346\n"
          ],
          "name": "stdout"
        }
      ]
    },
    {
      "cell_type": "markdown",
      "metadata": {
        "id": "DLQNcXCVjE76"
      },
      "source": [
        "# Simulation"
      ]
    },
    {
      "cell_type": "markdown",
      "metadata": {
        "id": "ANqkXsoDkXDl"
      },
      "source": [
        "## Multivariate normal with equal variance"
      ]
    },
    {
      "cell_type": "code",
      "metadata": {
        "id": "e_rufrQmcT19",
        "colab": {
          "base_uri": "https://localhost:8080/"
        },
        "outputId": "beab9884-2211-4fc5-9623-bb8c4008f2d3"
      },
      "source": [
        "_ = MonteCarlo_1(10, 20, 20, u0, u1, sigma, sigma)"
      ],
      "execution_count": null,
      "outputs": [
        {
          "output_type": "stream",
          "text": [
            "{'suliu': (0.775, 0.14958275301651588), 'logistic': (0.7699999999999999, 0.1523975065412817), 'stepwise': (0.7749999999999999, 0.10246950765959599), 'min-max': (0.7474999999999999, 0.13984366270946993), 'rf': (0.7375, 0.13428049001995782), 'svml': (0.77625, 0.12629949524839756), 'svmr': (0.71375, 0.18204137579132937)}\n"
          ],
          "name": "stdout"
        }
      ]
    },
    {
      "cell_type": "code",
      "metadata": {
        "id": "AXBipnyxt0I8"
      },
      "source": [
        "u0 = [0.1,0.1,0.1, 0.1]; u1 = [0.6, 0.8, 1, 1.2]\n",
        "sigma = [[1,0.5,0.5,0.5],\n",
        "          [0.5,1,0.5,0.5],\n",
        "          [0.5,0.5,1,0.5],\n",
        "          [0.5,0.5,0.5,1]]"
      ],
      "execution_count": null,
      "outputs": []
    },
    {
      "cell_type": "code",
      "metadata": {
        "id": "ORhyszFynt21"
      },
      "source": [
        "def MonteCarlo_1(T, n0, n1, u0, u1, sigma0, sigma1, log_bool = False):\n",
        "  \"\"\"simulation for first scenario: multivarite normal with equal variance\n",
        "  T: number of simulation\n",
        "  n0: sample size of class 0\n",
        "  n1: sample size of class 1\n",
        "  \"\"\"\n",
        "  AUC = {'suliu':[], 'logistic':[], 'stepwise':[],'min-max':[], 'rf':[], 'svml':[], 'svmr':[]}  ## same num as simulation time\n",
        "  methods = ['suliu', 'logistic', 'stepwise','min-max', 'rf', 'svml', 'svmr']\n",
        "  for i in range(T):\n",
        "    ### one monto carlo simulation of size n0 + n1\n",
        "    #i = 10\n",
        "    np.random.seed(seed= 100*i+ 4*i)\n",
        "    X0 = multivariate_normal(u0, sigma0, size = n0)\n",
        "    X1 = multivariate_normal(u1, sigma1, size = n1)\n",
        "    if log_bool:\n",
        "      X0 = np.exp(X0)\n",
        "      X1 = np.exp(X1)\n",
        "    #\n",
        "    X = np.concatenate([X0,X1])\n",
        "    y = [0] * n0\n",
        "    y.extend([1]*n1); y = np.array(y) ## X,y is one simulation\n",
        "    X = pd.DataFrame(data = X); y = pd.Series(y)\n",
        "    ## within that particular MC simulation, do 10 folds CV\n",
        "    cv = StratifiedKFold(n_splits= 10, shuffle=True, random_state=42)\n",
        "    AUC_folds = {'suliu':[], 'logistic':[], 'stepwise':[],'min-max':[], 'rf':[], 'svml':[], 'svmr':[]}  # same number as folders\n",
        "    #\n",
        "    for folder, (train_index, val_index) in enumerate(cv.split(X, y)): \n",
        "        X_train,X_val = X.iloc[train_index],X.iloc[val_index]\n",
        "        y_train,y_val = y.iloc[train_index],y.iloc[val_index]\n",
        "        # \n",
        "        X0_train, X1_train = helper(X_train, y_train); X0_val, X1_val = helper(X_val, y_val)\n",
        "        for method in methods:\n",
        "          model = AllMethod(method= method, bool_trans= False).fit(X0_train,X1_train)\n",
        "          _,_, auc = model.predict(X0_val,X1_val)\n",
        "          AUC_folds[method].append(auc)\n",
        "    #print(AUC_folds)\n",
        "    for key, val in AUC_folds.items():\n",
        "      AUC[key].append( np.mean(np.array(val) ))\n",
        "\n",
        "  print({key: (np.mean(np.array(val)) ,np.std(np.array(val))) for key,val in AUC.items()})\n",
        "  return AUC"
      ],
      "execution_count": null,
      "outputs": []
    },
    {
      "cell_type": "markdown",
      "metadata": {
        "id": "1Twz9qjxjd4S"
      },
      "source": [
        "###Setting A"
      ]
    },
    {
      "cell_type": "code",
      "metadata": {
        "id": "tP_OLgHOlwuT",
        "colab": {
          "base_uri": "https://localhost:8080/"
        },
        "outputId": "9f037699-62fb-408c-8e5e-a19d73ba46f9"
      },
      "source": [
        "_ = MonteCarlo_1(1000, 20, 20, u0, u1, sigma, sigma)"
      ],
      "execution_count": null,
      "outputs": [
        {
          "output_type": "stream",
          "text": [
            "{'suliu': (0.762675, 0.09834871313342133), 'logistic': (0.771375, 0.09712097803770306), 'stepwise': (0.752, 0.10482604638161262), 'min-max': (0.73405, 0.10478834620319188), 'rf': (0.742525, 0.10567668557917588), 'svml': (0.7287, 0.16157543903700217), 'svmr': (0.6635625, 0.19517531181927186)}\n"
          ],
          "name": "stdout"
        }
      ]
    },
    {
      "cell_type": "code",
      "metadata": {
        "id": "WjDNRN33ly2x",
        "colab": {
          "base_uri": "https://localhost:8080/"
        },
        "outputId": "c477a5a2-6224-45cb-a364-2745796c5ea7"
      },
      "source": [
        "_ = MonteCarlo_1(1000, 20, 30, u0, u1, sigma, sigma)"
      ],
      "execution_count": null,
      "outputs": [
        {
          "output_type": "stream",
          "text": [
            "{'suliu': (0.76875, 0.08583151292567964), 'logistic': (0.7751333333333333, 0.08300591679044465), 'stepwise': (0.7576166666666667, 0.0920117006448395), 'min-max': (0.7386, 0.09082055567619773), 'rf': (0.7493416666666666, 0.09111377159902888), 'svml': (0.7528916666666666, 0.1208156857802643), 'svmr': (0.7232, 0.1256332139382116)}\n"
          ],
          "name": "stdout"
        }
      ]
    },
    {
      "cell_type": "code",
      "metadata": {
        "id": "1Ny546fslzYZ",
        "colab": {
          "base_uri": "https://localhost:8080/"
        },
        "outputId": "cf934df9-282a-4551-a839-2cff7b10a106"
      },
      "source": [
        "_ = MonteCarlo_1(1000, 50, 50, u0, u1, sigma, sigma)"
      ],
      "execution_count": null,
      "outputs": [
        {
          "output_type": "stream",
          "text": [
            "{'suliu': (0.786708, 0.054775274860104556), 'logistic': (0.7880280000000001, 0.054243149023632496), 'stepwise': (0.780832, 0.057442108039312094), 'min-max': (0.753992, 0.0542533311051036), 'rf': (0.770222, 0.056831986732825045), 'svml': (0.7854140000000001, 0.05588384922318793), 'svmr': (0.7533920000000001, 0.07719796847067935)}\n"
          ],
          "name": "stdout"
        }
      ]
    },
    {
      "cell_type": "markdown",
      "metadata": {
        "id": "d6f3NlR_jhCt"
      },
      "source": [
        "### Setting B"
      ]
    },
    {
      "cell_type": "code",
      "metadata": {
        "id": "yEV4egtfji93"
      },
      "source": [
        "u0 = [0.1,0.1,0.1, 0.1]; u1 = [1.1, 1.4, 1.7, 2]\n",
        "sigma = [[1,0.5,0.5,0.5],\n",
        "          [0.5,1,0.5,0.5],\n",
        "          [0.5,0.5,1,0.5],\n",
        "          [0.5,0.5,0.5,1]]"
      ],
      "execution_count": null,
      "outputs": []
    },
    {
      "cell_type": "code",
      "metadata": {
        "id": "kcPjH_ozjw3B",
        "colab": {
          "base_uri": "https://localhost:8080/"
        },
        "outputId": "4f0a6b76-6a57-4fb6-a617-d85b2d9f5a01"
      },
      "source": [
        "_ = MonteCarlo_1(1000, 20, 20, u0, u1, sigma, sigma)"
      ],
      "execution_count": null,
      "outputs": [
        {
          "output_type": "stream",
          "text": [
            "{'suliu': (0.90675, 0.06063775638989292), 'logistic': (0.913875, 0.058089236309319815), 'stepwise': (0.89665, 0.06293868047552316), 'min-max': (0.88485, 0.0668990097086646), 'rf': (0.8986500000000001, 0.06218964946034026), 'svml': (0.9086124999999999, 0.06123759951002325), 'svmr': (0.89535, 0.06571674063737488)}\n"
          ],
          "name": "stdout"
        }
      ]
    },
    {
      "cell_type": "code",
      "metadata": {
        "id": "_fKei4iJjjFc",
        "colab": {
          "base_uri": "https://localhost:8080/"
        },
        "outputId": "9de956ff-8431-4140-b0e0-9c04ca598be2"
      },
      "source": [
        "_ = MonteCarlo_1(1000, 20, 30, u0, u1, sigma, sigma)"
      ],
      "execution_count": null,
      "outputs": [
        {
          "output_type": "stream",
          "text": [
            "{'suliu': (0.9129499999999999, 0.04975292007064064), 'logistic': (0.9178, 0.04781148165219081), 'stepwise': (0.9058499999999999, 0.05317110483043295), 'min-max': (0.8894833333333334, 0.05609228259454831), 'rf': (0.9019916666666666, 0.05290707196480343), 'svml': (0.9135333333333333, 0.0507749829038759), 'svmr': (0.8980083333333333, 0.056786563722807215)}\n"
          ],
          "name": "stdout"
        }
      ]
    },
    {
      "cell_type": "code",
      "metadata": {
        "id": "59hW0z9UjjMs",
        "colab": {
          "base_uri": "https://localhost:8080/"
        },
        "outputId": "f26a4e3a-78e6-4f00-a497-d88224f2df6b"
      },
      "source": [
        "_ = MonteCarlo_1(1000, 50, 50, u0, u1, sigma, sigma)"
      ],
      "execution_count": null,
      "outputs": [
        {
          "output_type": "stream",
          "text": [
            "{'suliu': (0.921284, 0.030369974382603606), 'logistic': (0.9227240000000001, 0.0301360220334403), 'stepwise': (0.9190799999999999, 0.03145767950755426), 'min-max': (0.8989040000000001, 0.03385543950386702), 'rf': (0.912004, 0.03285239692929573), 'svml': (0.920322, 0.030783442237670555), 'svmr': (0.906374, 0.035153038616882036)}\n"
          ],
          "name": "stdout"
        }
      ]
    },
    {
      "cell_type": "markdown",
      "metadata": {
        "id": "xnm0lsfqrEG5"
      },
      "source": [
        "## Multivariate with uneual variance"
      ]
    },
    {
      "cell_type": "code",
      "metadata": {
        "id": "SKOAqmStrLBV"
      },
      "source": [
        "u0 = [0.1,0.1,0.1, 0.1]; u1 = [0.6, 0.8, 1, 1.2]\n",
        "sigma0 = [[1,0.3,0.3,0.3],\n",
        "          [0.3,1,0.3,0.3],\n",
        "          [0.3,0.3,1,0.3],\n",
        "          [0.3,0.3,0.3,1]]\n",
        "\n",
        "sigma1 = [[1,0.7,0.7,0.7],\n",
        "          [0.7,1,0.7,0.7],\n",
        "          [0.7,0.7,1,0.7],\n",
        "          [0.7,0.7,0.7,1]]\n",
        "\n"
      ],
      "execution_count": null,
      "outputs": []
    },
    {
      "cell_type": "markdown",
      "metadata": {
        "id": "YKzc2Hu2j33j"
      },
      "source": [
        "### setting A"
      ]
    },
    {
      "cell_type": "code",
      "metadata": {
        "id": "dfjJ6jfFN8eZ",
        "colab": {
          "base_uri": "https://localhost:8080/"
        },
        "outputId": "be9f5769-2d6c-4458-9821-5a1e113e78d7"
      },
      "source": [
        "_ = MonteCarlo_1(1000, 20, 20, u0, u1, sigma0, sigma1)"
      ],
      "execution_count": null,
      "outputs": [
        {
          "output_type": "stream",
          "text": [
            "{'suliu': (0.758225, 0.10298895268425638), 'logistic': (0.769225, 0.09986753413897832), 'stepwise': (0.74675, 0.10633996191460668), 'min-max': (0.790825, 0.08806358143409795), 'rf': (0.7550875000000001, 0.10263051979674467), 'svml': (0.7246625, 0.1633268726932283), 'svmr': (0.723225, 0.18155914842001214)}\n"
          ],
          "name": "stdout"
        }
      ]
    },
    {
      "cell_type": "code",
      "metadata": {
        "id": "ltYbfTH9OBnf",
        "colab": {
          "base_uri": "https://localhost:8080/"
        },
        "outputId": "ead18602-0e13-4d0b-9f0e-cd1666379729"
      },
      "source": [
        "_ = MonteCarlo_1(1000, 20, 30, u0, u1, sigma0, sigma1)"
      ],
      "execution_count": null,
      "outputs": [
        {
          "output_type": "stream",
          "text": [
            "{'suliu': (0.7658, 0.08519144453653912), 'logistic': (0.7711333333333334, 0.08501335842743252), 'stepwise': (0.7544166666666666, 0.09179199765411654), 'min-max': (0.7945166666666668, 0.0761992253533095), 'rf': (0.77115, 0.08294850979841517), 'svml': (0.7421166666666666, 0.12953900206329969), 'svmr': (0.77435, 0.10837496507752867)}\n"
          ],
          "name": "stdout"
        }
      ]
    },
    {
      "cell_type": "code",
      "metadata": {
        "id": "y5Ti8nsCOD8L",
        "colab": {
          "base_uri": "https://localhost:8080/"
        },
        "outputId": "4ec561c0-8043-4c4a-a066-96344ac61f07"
      },
      "source": [
        "_ = MonteCarlo_1(1000, 50, 50, u0, u1, sigma0, sigma1)"
      ],
      "execution_count": null,
      "outputs": [
        {
          "output_type": "stream",
          "text": [
            "{'suliu': (0.787756, 0.05329184237760975), 'logistic': (0.789188, 0.053226879074392504), 'stepwise': (0.781864, 0.0563947293991203), 'min-max': (0.803432, 0.048606803803582906), 'rf': (0.786126, 0.05288731534120447), 'svml': (0.78617, 0.05482575216082314), 'svmr': (0.806996, 0.053146664843619316)}\n"
          ],
          "name": "stdout"
        }
      ]
    },
    {
      "cell_type": "markdown",
      "metadata": {
        "id": "DjKQCKdDj7Ds"
      },
      "source": [
        "### Setting B"
      ]
    },
    {
      "cell_type": "code",
      "metadata": {
        "id": "ipcnCoUBj880"
      },
      "source": [
        "u0 = [0.1,0.1,0.1, 0.1]; u1 = [1.1, 1.4, 1.7, 2]\n",
        "sigma0 = [[1,0.3,0.3,0.3],\n",
        "          [0.3,1,0.3,0.3],\n",
        "          [0.3,0.3,1,0.3],\n",
        "          [0.3,0.3,0.3,1]]\n",
        "\n",
        "sigma1 = [[1,0.7,0.7,0.7],\n",
        "          [0.7,1,0.7,0.7],\n",
        "          [0.7,0.7,1,0.7],\n",
        "          [0.7,0.7,0.7,1]]\n",
        "\n"
      ],
      "execution_count": null,
      "outputs": []
    },
    {
      "cell_type": "code",
      "metadata": {
        "id": "Les2-jqhkKjU",
        "colab": {
          "base_uri": "https://localhost:8080/"
        },
        "outputId": "2ec20f0c-e6a0-45e5-add9-62a898c54a5c"
      },
      "source": [
        "_ = MonteCarlo_1(1000, 20, 20, u0, u1, sigma0, sigma1)"
      ],
      "execution_count": null,
      "outputs": [
        {
          "output_type": "stream",
          "text": [
            "{'suliu': (0.9067499999999998, 0.06120202202542004), 'logistic': (0.913625, 0.05704151448725743), 'stepwise': (0.8965749999999999, 0.06166558501303624), 'min-max': (0.890575, 0.0636635246825056), 'rf': (0.898925, 0.06109751938499631), 'svml': (0.9083, 0.05971429895761986), 'svmr': (0.9038624999999999, 0.06123407828774759)}\n"
          ],
          "name": "stdout"
        }
      ]
    },
    {
      "cell_type": "code",
      "metadata": {
        "id": "3CSilQHpj9Hq",
        "colab": {
          "base_uri": "https://localhost:8080/"
        },
        "outputId": "02ebabe7-24cc-46ef-fecc-d0a70ca7055e"
      },
      "source": [
        "_ = MonteCarlo_1(1000, 20, 30, u0, u1, sigma0, sigma1)"
      ],
      "execution_count": null,
      "outputs": [
        {
          "output_type": "stream",
          "text": [
            "{'suliu': (0.9105666666666666, 0.05049214460355855), 'logistic': (0.9164166666666668, 0.0474364340752736), 'stepwise': (0.9023166666666667, 0.05169805229514079), 'min-max': (0.8945833333333334, 0.055023669149436655), 'rf': (0.9070333333333334, 0.04938768402479846), 'svml': (0.9097916666666668, 0.050848614506417214), 'svmr': (0.90935, 0.0518552445649318)}\n"
          ],
          "name": "stdout"
        }
      ]
    },
    {
      "cell_type": "code",
      "metadata": {
        "id": "MJCN9ixAj9Op",
        "colab": {
          "base_uri": "https://localhost:8080/"
        },
        "outputId": "bb564bf4-91c2-4422-d2eb-c8ea4400b209"
      },
      "source": [
        "_ = MonteCarlo_1(1000, 50, 50, u0, u1, sigma0, sigma1)"
      ],
      "execution_count": null,
      "outputs": [
        {
          "output_type": "stream",
          "text": [
            "{'suliu': (0.9217560000000001, 0.0310952804135933), 'logistic': (0.9230640000000001, 0.030761857941288252), 'stepwise': (0.919452, 0.03167995732320356), 'min-max': (0.9034880000000001, 0.03422738459187321), 'rf': (0.913842, 0.03188797635473282), 'svml': (0.9209820000000001, 0.031100862946227062), 'svmr': (0.918258, 0.03170024346909656)}\n"
          ],
          "name": "stdout"
        }
      ]
    },
    {
      "cell_type": "markdown",
      "metadata": {
        "id": "3hNShajVrIKj"
      },
      "source": [
        "## Log normal with unequal variance"
      ]
    },
    {
      "cell_type": "markdown",
      "metadata": {
        "id": "ZW6aRT_vkXuy"
      },
      "source": [
        "### Setting A"
      ]
    },
    {
      "cell_type": "code",
      "metadata": {
        "id": "ojksawkvrKix",
        "colab": {
          "base_uri": "https://localhost:8080/"
        },
        "outputId": "944655a7-6e7f-4a11-e9a4-2c40c86d72d7"
      },
      "source": [
        "_ = MonteCarlo_1(1000, 20, 20, u0, u1, sigma0, sigma1, True)"
      ],
      "execution_count": null,
      "outputs": [
        {
          "output_type": "stream",
          "text": [
            "{'suliu': (0.719, 0.10611432514038809), 'logistic': (0.739975, 0.10579520015104654), 'stepwise': (0.7352000000000001, 0.11355487660157973), 'min-max': (0.7912750000000001, 0.08878766454299833), 'rf': (0.7548250000000001, 0.1025434389661279), 'svml': (0.6974124999999999, 0.16492145431613803), 'svmr': (0.5792375, 0.2261961534680685)}\n"
          ],
          "name": "stdout"
        }
      ]
    },
    {
      "cell_type": "code",
      "metadata": {
        "id": "La_IM0JYrKlX",
        "colab": {
          "base_uri": "https://localhost:8080/"
        },
        "outputId": "ca186d0e-a626-4539-ba1f-376c92c0a1d8"
      },
      "source": [
        "_ = MonteCarlo_1(1000, 20, 30, u0, u1, sigma0, sigma1, True)"
      ],
      "execution_count": null,
      "outputs": [
        {
          "output_type": "stream",
          "text": [
            "{'suliu': (0.7302000000000001, 0.08767467644017223), 'logistic': (0.7467, 0.09148587626270821), 'stepwise': (0.7438166666666667, 0.09799852464875854), 'min-max': (0.7945, 0.07809022559407376), 'rf': (0.7708666666666667, 0.0833599890701635), 'svml': (0.7139583333333333, 0.13873169924353987), 'svmr': (0.6838500000000001, 0.16169547767331033)}\n"
          ],
          "name": "stdout"
        }
      ]
    },
    {
      "cell_type": "code",
      "metadata": {
        "id": "OSHAJEoUjUmF",
        "colab": {
          "base_uri": "https://localhost:8080/"
        },
        "outputId": "a272e8b3-2d97-4458-b6dc-2479855ce485"
      },
      "source": [
        "_ = MonteCarlo_1(1000, 50, 50, u0, u1, sigma0, sigma1, True)"
      ],
      "execution_count": null,
      "outputs": [
        {
          "output_type": "stream",
          "text": [
            "{'suliu': (0.748332, 0.058799470881973105), 'logistic': (0.7629, 0.05759741313635538), 'stepwise': (0.76634, 0.060471583409069114), 'min-max': (0.804064, 0.04958995769306526), 'rf': (0.7860839999999999, 0.05273314843625405), 'svml': (0.766008, 0.06104083826423096), 'svmr': (0.749634, 0.0873703270223936)}\n"
          ],
          "name": "stdout"
        }
      ]
    },
    {
      "cell_type": "markdown",
      "metadata": {
        "id": "Y_bs_GE7kZdD"
      },
      "source": [
        "### Setting B"
      ]
    },
    {
      "cell_type": "code",
      "metadata": {
        "id": "bxTyNLwVka8x"
      },
      "source": [
        "u0 = [0.1,0.1,0.1, 0.1]; u1 = [1.1, 1.4, 1.7, 2]\n",
        "sigma0 = [[1,0.3,0.3,0.3],\n",
        "          [0.3,1,0.3,0.3],\n",
        "          [0.3,0.3,1,0.3],\n",
        "          [0.3,0.3,0.3,1]]\n",
        "\n",
        "sigma1 = [[1,0.7,0.7,0.7],\n",
        "          [0.7,1,0.7,0.7],\n",
        "          [0.7,0.7,1,0.7],\n",
        "          [0.7,0.7,0.7,1]]\n",
        "\n"
      ],
      "execution_count": null,
      "outputs": []
    },
    {
      "cell_type": "code",
      "metadata": {
        "id": "jHWCgpdMkbEJ",
        "colab": {
          "base_uri": "https://localhost:8080/"
        },
        "outputId": "f4d5e219-5525-4074-c602-3d3c91f53730"
      },
      "source": [
        "_ = MonteCarlo_1(1000, 20, 20, u0, u1, sigma0, sigma1, True)"
      ],
      "execution_count": null,
      "outputs": [
        {
          "output_type": "stream",
          "text": [
            "{'suliu': (0.8471, 0.0802127795304464), 'logistic': (0.8900750000000001, 0.06685521202569025), 'stepwise': (0.879125, 0.06913652706782428), 'min-max': (0.8876, 0.06583114764304204), 'rf': (0.8979874999999999, 0.06096756181569015), 'svml': (0.883875, 0.07258604807399284), 'svmr': (0.881575, 0.10180966002791679)}\n"
          ],
          "name": "stdout"
        }
      ]
    },
    {
      "cell_type": "code",
      "metadata": {
        "id": "Amb_wixzkbUu",
        "colab": {
          "base_uri": "https://localhost:8080/"
        },
        "outputId": "e3f7a501-9d87-4e38-9174-2deb33383911"
      },
      "source": [
        "_ = MonteCarlo_1(1000, 20, 30, u0, u1, sigma0, sigma1, True)"
      ],
      "execution_count": null,
      "outputs": [
        {
          "output_type": "stream",
          "text": [
            "{'suliu': (0.8603, 0.06467026622284257), 'logistic': (0.8935, 0.057271041742072606), 'stepwise': (0.88905, 0.05775270796921801), 'min-max': (0.8945666666666666, 0.05554708713235005), 'rf': (0.9068166666666666, 0.04923080280113706), 'svml': (0.8899000000000001, 0.058496828024166315), 'svmr': (0.8953166666666668, 0.05329044890451238)}\n"
          ],
          "name": "stdout"
        }
      ]
    },
    {
      "cell_type": "code",
      "metadata": {
        "id": "CYuQAqSdkbdY",
        "colab": {
          "base_uri": "https://localhost:8080/"
        },
        "outputId": "412c4237-b308-4c32-a1ff-fd74acef89cb"
      },
      "source": [
        "_ = MonteCarlo_1(1000, 50, 50, u0, u1, sigma0, sigma1, True)"
      ],
      "execution_count": null,
      "outputs": [
        {
          "output_type": "stream",
          "text": [
            "{'suliu': (0.877152, 0.04465889492587114), 'logistic': (0.905796, 0.035051824260657234), 'stepwise': (0.9061400000000001, 0.03596682360175832), 'min-max': (0.9016600000000001, 0.034587113207089126), 'rf': (0.913792, 0.03194189624928363), 'svml': (0.906382, 0.03500437224119294), 'svmr': (0.9034099999999999, 0.037322163656465575)}\n"
          ],
          "name": "stdout"
        }
      ]
    },
    {
      "cell_type": "markdown",
      "metadata": {
        "id": "W00waYrZTkFv"
      },
      "source": [
        "##  normal distribution, with logit(P(Y|X)) = x1 - x2 - x3 + (x1-x2)^2 - x4^4"
      ]
    },
    {
      "cell_type": "code",
      "metadata": {
        "id": "WkGVxjPmT2QH"
      },
      "source": [
        "def MonteCarlo_3(T, n, u, sigma):\n",
        "  \"\"\"simulation for last scenario: generate X first from normal, then generate y via logit(Y|X) = 10* ((sinpi*x1) + ... )\n",
        "  T: number of simulation\n",
        "  n: sample size\n",
        "  \"\"\"\n",
        "  AUC = {'suliu':[], 'logistic':[], 'stepwise':[],'min-max':[], 'rf':[], 'svml':[], 'svmr':[]}  ## same num as simulation time\n",
        "  methods = ['suliu', 'logistic', 'stepwise','min-max', 'rf', 'svml', 'svmr']\n",
        "  for i in range(T):\n",
        "    ### one monto carlo simulation of size n0 + n1\n",
        "    np.random.seed(seed= 100*i+ 4*i)\n",
        "    X = multivariate_normal(u, sigma, size = n); #X = np.exp(X)\n",
        "    X_trans = [ele[0] - ele[1] - ele[2]+ (ele[0] - ele[1])**2 - ele[3]**4 for ele in X] ## x1 - x2 - x3 + (x1-x2)^2 - x4^4\n",
        "    p = list(map(lambda x: 1 / (1 + np.exp(-x)),  X_trans))\n",
        "    y = bernoulli.rvs(p, size= n)\n",
        "    X = pd.DataFrame(data = X); y = pd.Series(y)\n",
        "    ## within that particular MC simulation, do 10 folds CV\n",
        "    cv = StratifiedKFold(n_splits= 10, shuffle=True, random_state=42)\n",
        "    AUC_folds = {'suliu':[], 'logistic':[], 'stepwise':[],'min-max':[], 'rf':[], 'svml':[], 'svmr':[]}  # same number as folders\n",
        "    #\n",
        "    for folder, (train_index, val_index) in enumerate(cv.split(X, y)): \n",
        "        X_train,X_val = X.iloc[train_index],X.iloc[val_index]\n",
        "        y_train,y_val = y.iloc[train_index],y.iloc[val_index]\n",
        "        # \n",
        "        X0_train, X1_train = helper(X_train, y_train); X0_val, X1_val = helper(X_val, y_val)\n",
        "        for method in methods:\n",
        "          model = AllMethod(method= method, bool_trans= False).fit(X0_train,X1_train)\n",
        "          _,_, auc = model.predict(X0_val,X1_val)\n",
        "          AUC_folds[method].append(auc)\n",
        "    #print(AUC_folds)\n",
        "    for key, val in AUC_folds.items():\n",
        "      AUC[key].append( np.mean(np.array(val) ))\n",
        "\n",
        "  print({key: (np.mean(np.array(val)) ,np.std(np.array(val))) for key,val in AUC.items()})\n",
        "  return AUC"
      ],
      "execution_count": null,
      "outputs": []
    },
    {
      "cell_type": "code",
      "metadata": {
        "id": "Vxo3vvusT2aC"
      },
      "source": [
        "u = [0]*4;  ## p1 = p0\n",
        "sigma = [[1,0,0,0],\n",
        "          [0,1,0,0],\n",
        "          [0,0,1,0],\n",
        "          [0,0,0,1]]"
      ],
      "execution_count": null,
      "outputs": []
    },
    {
      "cell_type": "code",
      "metadata": {
        "colab": {
          "base_uri": "https://localhost:8080/"
        },
        "id": "sUMHACIUXrSl",
        "outputId": "9abea972-5fe9-4ba5-9b1b-7f1e1a866558"
      },
      "source": [
        "_ = MonteCarlo_3(200, 40, u, sigma)\n"
      ],
      "execution_count": null,
      "outputs": [
        {
          "output_type": "stream",
          "text": [
            "{'suliu': (0.61425, 0.13110796547544742), 'logistic': (0.6145416666666667, 0.13216676518491494), 'stepwise': (0.588375, 0.1400071860754932), 'min-max': (0.4905833333333333, 0.15133505413852769), 'rf': (0.7120833333333333, 0.11587454302918403), 'svml': (0.5238333333333334, 0.17873696533671418), 'svmr': (0.6675625, 0.1879965081217527)}\n"
          ],
          "name": "stdout"
        }
      ]
    },
    {
      "cell_type": "code",
      "metadata": {
        "colab": {
          "base_uri": "https://localhost:8080/"
        },
        "id": "C-JA_k1KXx2_",
        "outputId": "1af89a6c-0376-4c76-bd0f-ee80dfb18b4d"
      },
      "source": [
        "_ = MonteCarlo_3(200, 50, u, sigma)\n"
      ],
      "execution_count": null,
      "outputs": [
        {
          "output_type": "stream",
          "text": [
            "{'suliu': (0.6319166666666667, 0.11040993690183266), 'logistic': (0.6325, 0.1127158423253409), 'stepwise': (0.6127916666666667, 0.11327473209218178), 'min-max': (0.5113749999999999, 0.13417488975835482), 'rf': (0.7302916666666667, 0.084088980236546), 'svml': (0.564625, 0.1678530638435494), 'svmr': (0.759875, 0.11270375837911431)}\n"
          ],
          "name": "stdout"
        }
      ]
    },
    {
      "cell_type": "code",
      "metadata": {
        "colab": {
          "base_uri": "https://localhost:8080/"
        },
        "id": "t6WBOs6cXy5N",
        "outputId": "bf75baef-8e63-4137-d6d6-a901b8a27b60"
      },
      "source": [
        "_ = MonteCarlo_3(200, 100, u, sigma)\n"
      ],
      "execution_count": null,
      "outputs": [
        {
          "output_type": "stream",
          "text": [
            "{'suliu': (0.6505657142857143, 0.07721729948158654), 'logistic': (0.6498232142857142, 0.07729269143892227), 'stepwise': (0.6385311904761904, 0.08472136458251457), 'min-max': (0.49920630952380945, 0.09037241979134311), 'rf': (0.7742550595238095, 0.05250776260554239), 'svml': (0.6032980357142858, 0.130584319585125), 'svmr': (0.8117191666666667, 0.05666287572591112)}\n"
          ],
          "name": "stdout"
        }
      ]
    },
    {
      "cell_type": "markdown",
      "metadata": {
        "id": "Cxsc6zIFFxyX"
      },
      "source": [
        "## Normal-distribution, with logit(P(Y|X)) = 10*(sin(pix1) + sin(pix2) + ... )"
      ]
    },
    {
      "cell_type": "code",
      "metadata": {
        "id": "r0A6H-ANMo8h"
      },
      "source": [
        "def MonteCarlo_2(T, n, u, sigma):\n",
        "  \"\"\"simulation for last scenario: generate X first from normal, then generate y via logit(Y|X) = 10* ((sinpi*x1) + ... )\n",
        "  T: number of simulation\n",
        "  n: sample size\n",
        "  u: mean for X\n",
        "  sigma: variance for X\n",
        "  \"\"\"\n",
        "  AUC = {'suliu':[], 'logistic':[], 'stepwise':[],'min-max':[], 'rf':[], 'svml':[], 'svmr':[]}  ## same num as simulation time\n",
        "  methods = ['suliu', 'logistic', 'stepwise','min-max', 'rf', 'svml', 'svmr']\n",
        "  for i in range(T):\n",
        "    ### one monto carlo simulation of size n0 + n1\n",
        "    #i = 10\n",
        "    print(i)\n",
        "    np.random.seed(seed= 100*i+ 4*i)\n",
        "    X = multivariate_normal(u, sigma, size = n)\n",
        "    X_trans = [ 10*sum(list(map(lambda x: np.sin(np.pi*x) , ele))) for ele in X]\n",
        "    p = list(map(lambda x: 1 / (1 + np.exp(-x)),  X_trans))\n",
        "    y = bernoulli.rvs(p, size= n)\n",
        "    X = pd.DataFrame(data = X); y = pd.Series(y)\n",
        "    ## within that particular MC simulation, do 10 folds CV\n",
        "    cv = StratifiedKFold(n_splits= 10, shuffle=True, random_state=42)\n",
        "    AUC_folds = {'suliu':[], 'logistic':[], 'stepwise':[],'min-max':[], 'rf':[], 'svml':[], 'svmr':[]}  # same number as folders\n",
        "    #\n",
        "    for folder, (train_index, val_index) in enumerate(cv.split(X, y)): \n",
        "        X_train,X_val = X.iloc[train_index],X.iloc[val_index]\n",
        "        y_train,y_val = y.iloc[train_index],y.iloc[val_index]\n",
        "        # \n",
        "        X0_train, X1_train = helper(X_train, y_train); X0_val, X1_val = helper(X_val, y_val)\n",
        "        for method in methods:\n",
        "          model = AllMethod(method= method, bool_trans= False).fit(X0_train,X1_train)\n",
        "          _,_, auc = model.predict(X0_val,X1_val)\n",
        "          AUC_folds[method].append(auc)\n",
        "    #print(AUC_folds)\n",
        "    for key, val in AUC_folds.items():\n",
        "      AUC[key].append( np.mean(np.array(val) ))\n",
        "\n",
        "  print({key: (np.mean(np.array(val)) ,np.std(np.array(val))) for key,val in AUC.items()})\n",
        "  return AUC"
      ],
      "execution_count": null,
      "outputs": []
    },
    {
      "cell_type": "code",
      "metadata": {
        "id": "aMAha1LRNrti"
      },
      "source": [
        "u = [0]*4;  ## p1 = p0\n",
        "sigma = [[1,0,0,0],\n",
        "          [0,1,0,0],\n",
        "          [0,0,1,0],\n",
        "          [0,0,0,1]]"
      ],
      "execution_count": null,
      "outputs": []
    },
    {
      "cell_type": "code",
      "metadata": {
        "id": "VpfzGvLUGPBs"
      },
      "source": [
        "_ = MonteCarlo_2(200, 40, u, sigma)\n",
        "#{'suliu': (0.5052916666666666, 0.13708314969592564), 'logistic': (0.5051666666666667, 0.13665030389851152), \n",
        "#'stepwise': (0.5091249999999999, 0.14328147681128298), 'min-max': (0.468375, 0.17256097452945598), \n",
        "#'rf': (0.6886249999999999, 0.11789878397968695), 'svml': (0.5011875, 0.15691158686900722), \n",
        "#'svmr': (0.46789583333333334, 0.15933825693011638)}\n"
      ],
      "execution_count": null,
      "outputs": []
    },
    {
      "cell_type": "code",
      "metadata": {
        "id": "uOTN6jWhL-ZJ"
      },
      "source": [
        "_ = MonteCarlo_2(200, 50, u, sigma)\n",
        "#{'suliu': (0.5173333333333333, 0.13585725760681483), 'logistic': (0.5172916666666666, 0.13500498318992196), \n",
        "#'stepwise': (0.524125, 0.13767261261372535), 'min-max': (0.48166666666666663, 0.13600194034563545), \n",
        "#'rf': (0.7029583333333334, 0.10525728234241616), 'svml': (0.4928333333333333, 0.14566189923548606), \n",
        "#'svmr': (0.5115833333333333, 0.14704683210913908)}\n"
      ],
      "execution_count": null,
      "outputs": []
    },
    {
      "cell_type": "code",
      "metadata": {
        "id": "MwfGL34BGPLM"
      },
      "source": [
        "_ = MonteCarlo_2(200, 100, u, sigma)\n",
        "#{'suliu': (0.49881416666666667, 0.08754259033751344), 'logistic': (0.49831380952380955, 0.08802945503232416), \n",
        "#'stepwise': (0.5085010714285714, 0.0858479995823942), 'min-max': (0.49105797619047614, 0.08602643655714516), \n",
        "#'rf': (0.7383856547619047, 0.05699929043270678), 'svml': (0.4985396428571429, 0.09117177144911412), \n",
        "#'svmr': (0.4884030357142857, 0.09638591813416322)}\n"
      ],
      "execution_count": null,
      "outputs": []
    },
    {
      "cell_type": "code",
      "metadata": {
        "id": "BnwfNq3XIEe4"
      },
      "source": [
        "_ = MonteCarlo_2(200, 200, u, sigma)\n",
        "#{'suliu': (0.507084393939394, 0.058765174060825494), 'logistic': (0.5072064772727274, 0.05873872834045124), \n",
        "#'stepwise': (0.5150096590909091, 0.0588409026415971), 'min-max': (0.4989740404040404, 0.059580195428004294), \n",
        "#'rf': (0.7751914930555555, 0.03231156644512223), 'svml': (0.4987640025252525, 0.06576031881412701), \n",
        "#'svmr': (0.5489882828282827, 0.08695929270601069)}\n"
      ],
      "execution_count": null,
      "outputs": []
    },
    {
      "cell_type": "code",
      "metadata": {
        "id": "IwVyhZ8FIYKp"
      },
      "source": [
        ""
      ],
      "execution_count": null,
      "outputs": []
    },
    {
      "cell_type": "code",
      "metadata": {
        "id": "6k7ILAqiWOlD"
      },
      "source": [
        "\n",
        "\n",
        " "
      ],
      "execution_count": null,
      "outputs": []
    }
  ]
}